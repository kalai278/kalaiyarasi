{
 "cells": [
  {
   "cell_type": "code",
   "execution_count": 2,
   "id": "36e84cc9",
   "metadata": {},
   "outputs": [
    {
     "name": "stdout",
     "output_type": "stream",
     "text": [
      "say\n",
      "bye\n",
      "kalai\n"
     ]
    }
   ],
   "source": [
    "try:\n",
    "    print(\"say\")\n",
    "except:\n",
    "    print(\"hii to\")\n",
    "else:\n",
    "    print(\"bye\")\n",
    "finally:\n",
    "    print(\"kalai\")"
   ]
  },
  {
   "cell_type": "code",
   "execution_count": null,
   "id": "046c59eb",
   "metadata": {},
   "outputs": [],
   "source": []
  }
 ],
 "metadata": {
  "kernelspec": {
   "display_name": "Python 3 (ipykernel)",
   "language": "python",
   "name": "python3"
  },
  "language_info": {
   "codemirror_mode": {
    "name": "ipython",
    "version": 3
   },
   "file_extension": ".py",
   "mimetype": "text/x-python",
   "name": "python",
   "nbconvert_exporter": "python",
   "pygments_lexer": "ipython3",
   "version": "3.9.7"
  }
 },
 "nbformat": 4,
 "nbformat_minor": 5
}
