{
 "cells": [
  {
   "cell_type": "code",
   "execution_count": 2,
   "id": "3aaf022f",
   "metadata": {},
   "outputs": [
    {
     "data": {
      "text/html": [
       "<div>\n",
       "<style scoped>\n",
       "    .dataframe tbody tr th:only-of-type {\n",
       "        vertical-align: middle;\n",
       "    }\n",
       "\n",
       "    .dataframe tbody tr th {\n",
       "        vertical-align: top;\n",
       "    }\n",
       "\n",
       "    .dataframe thead th {\n",
       "        text-align: right;\n",
       "    }\n",
       "</style>\n",
       "<table border=\"1\" class=\"dataframe\">\n",
       "  <thead>\n",
       "    <tr style=\"text-align: right;\">\n",
       "      <th></th>\n",
       "      <th>0</th>\n",
       "      <th>1</th>\n",
       "      <th>2</th>\n",
       "      <th>3</th>\n",
       "      <th>4</th>\n",
       "    </tr>\n",
       "  </thead>\n",
       "  <tbody>\n",
       "    <tr>\n",
       "      <th>0</th>\n",
       "      <td>Agilisium Consulting LLC</td>\n",
       "      <td>2629 Townsgate Rd Suite 235</td>\n",
       "      <td>Westlake Village</td>\n",
       "      <td>CA</td>\n",
       "      <td>91361</td>\n",
       "    </tr>\n",
       "    <tr>\n",
       "      <th>1</th>\n",
       "      <td>Agilisium Consulting India Private Limited</td>\n",
       "      <td>5/142 Rajiv Gandhi Salai Perungudi</td>\n",
       "      <td>Chennai</td>\n",
       "      <td>TN</td>\n",
       "      <td>600096</td>\n",
       "    </tr>\n",
       "  </tbody>\n",
       "</table>\n",
       "</div>"
      ],
      "text/plain": [
       "                                            0  \\\n",
       "0                    Agilisium Consulting LLC   \n",
       "1  Agilisium Consulting India Private Limited   \n",
       "\n",
       "                                     1                  2    3       4  \n",
       "0          2629 Townsgate Rd Suite 235   Westlake Village   CA   91361  \n",
       "1   5/142 Rajiv Gandhi Salai Perungudi            Chennai   TN  600096  "
      ]
     },
     "execution_count": 2,
     "metadata": {},
     "output_type": "execute_result"
    }
   ],
   "source": [
    "import pandas as pd\n",
    "df=pd.read_csv(\"/Users/kalaiyarasigembeeran/Downloads/Agilisium.csv\",header=None)\n",
    "\n",
    "df"
   ]
  },
  {
   "cell_type": "code",
   "execution_count": 4,
   "id": "d516b374",
   "metadata": {
    "scrolled": true
   },
   "outputs": [
    {
     "data": {
      "text/html": [
       "<div>\n",
       "<style scoped>\n",
       "    .dataframe tbody tr th:only-of-type {\n",
       "        vertical-align: middle;\n",
       "    }\n",
       "\n",
       "    .dataframe tbody tr th {\n",
       "        vertical-align: top;\n",
       "    }\n",
       "\n",
       "    .dataframe thead th {\n",
       "        text-align: right;\n",
       "    }\n",
       "</style>\n",
       "<table border=\"1\" class=\"dataframe\">\n",
       "  <thead>\n",
       "    <tr style=\"text-align: right;\">\n",
       "      <th></th>\n",
       "      <th>0</th>\n",
       "      <th>1</th>\n",
       "      <th>2</th>\n",
       "      <th>3</th>\n",
       "      <th>4</th>\n",
       "    </tr>\n",
       "  </thead>\n",
       "  <tbody>\n",
       "    <tr>\n",
       "      <th>0</th>\n",
       "      <td>Agilisium Consulting LLC</td>\n",
       "      <td>2629 Townsgate Rd Suite 235</td>\n",
       "      <td>Westlake Village</td>\n",
       "      <td>CA</td>\n",
       "      <td>91361</td>\n",
       "    </tr>\n",
       "    <tr>\n",
       "      <th>1</th>\n",
       "      <td>Agilisium Consulting India Private Limited</td>\n",
       "      <td>5/142 Rajiv Gandhi Salai Perungudi</td>\n",
       "      <td>Chennai</td>\n",
       "      <td>TN</td>\n",
       "      <td>600096</td>\n",
       "    </tr>\n",
       "  </tbody>\n",
       "</table>\n",
       "</div>"
      ],
      "text/plain": [
       "                                            0  \\\n",
       "0                    Agilisium Consulting LLC   \n",
       "1  Agilisium Consulting India Private Limited   \n",
       "\n",
       "                                     1                  2    3       4  \n",
       "0          2629 Townsgate Rd Suite 235   Westlake Village   CA   91361  \n",
       "1   5/142 Rajiv Gandhi Salai Perungudi            Chennai   TN  600096  "
      ]
     },
     "execution_count": 4,
     "metadata": {},
     "output_type": "execute_result"
    }
   ],
   "source": [
    "a=pd.read_csv(\"/Users/kalaiyarasigembeeran/Downloads/Agilisium.csv\",header=None)\n",
    "a"
   ]
  },
  {
   "cell_type": "code",
   "execution_count": 11,
   "id": "62798cfe",
   "metadata": {},
   "outputs": [
    {
     "data": {
      "text/html": [
       "<div>\n",
       "<style scoped>\n",
       "    .dataframe tbody tr th:only-of-type {\n",
       "        vertical-align: middle;\n",
       "    }\n",
       "\n",
       "    .dataframe tbody tr th {\n",
       "        vertical-align: top;\n",
       "    }\n",
       "\n",
       "    .dataframe thead th {\n",
       "        text-align: right;\n",
       "    }\n",
       "</style>\n",
       "<table border=\"1\" class=\"dataframe\">\n",
       "  <thead>\n",
       "    <tr style=\"text-align: right;\">\n",
       "      <th></th>\n",
       "      <th>CompanyName</th>\n",
       "      <th>StreetName</th>\n",
       "      <th>City</th>\n",
       "      <th>State</th>\n",
       "      <th>Pincode</th>\n",
       "    </tr>\n",
       "  </thead>\n",
       "  <tbody>\n",
       "    <tr>\n",
       "      <th>0</th>\n",
       "      <td>Agilisium Consulting LLC</td>\n",
       "      <td>2629 Townsgate Rd Suite 235</td>\n",
       "      <td>Westlake Village</td>\n",
       "      <td>CA</td>\n",
       "      <td>91361</td>\n",
       "    </tr>\n",
       "    <tr>\n",
       "      <th>1</th>\n",
       "      <td>Agilisium Consulting India Private Limited</td>\n",
       "      <td>5/142 Rajiv Gandhi Salai Perungudi</td>\n",
       "      <td>Chennai</td>\n",
       "      <td>TN</td>\n",
       "      <td>600096</td>\n",
       "    </tr>\n",
       "  </tbody>\n",
       "</table>\n",
       "</div>"
      ],
      "text/plain": [
       "                                  CompanyName  \\\n",
       "0                    Agilisium Consulting LLC   \n",
       "1  Agilisium Consulting India Private Limited   \n",
       "\n",
       "                            StreetName               City State Pincode  \n",
       "0          2629 Townsgate Rd Suite 235   Westlake Village    CA   91361  \n",
       "1   5/142 Rajiv Gandhi Salai Perungudi            Chennai    TN  600096  "
      ]
     },
     "execution_count": 11,
     "metadata": {},
     "output_type": "execute_result"
    }
   ],
   "source": [
    "a=pd.read_csv(\"/Users/kalaiyarasigembeeran/Downloads/Agilisium.csv\", sep=',',header=None)\n",
    "Frame=pd.DataFrame(a.values, columns=[\"CompanyName\",\"StreetName\",\"City\",\"State\",\"Pincode\"])\n",
    "Frame"
   ]
  },
  {
   "cell_type": "code",
   "execution_count": null,
   "id": "c64fe94d",
   "metadata": {},
   "outputs": [],
   "source": []
  }
 ],
 "metadata": {
  "kernelspec": {
   "display_name": "Python 3 (ipykernel)",
   "language": "python",
   "name": "python3"
  },
  "language_info": {
   "codemirror_mode": {
    "name": "ipython",
    "version": 3
   },
   "file_extension": ".py",
   "mimetype": "text/x-python",
   "name": "python",
   "nbconvert_exporter": "python",
   "pygments_lexer": "ipython3",
   "version": "3.9.7"
  }
 },
 "nbformat": 4,
 "nbformat_minor": 5
}
