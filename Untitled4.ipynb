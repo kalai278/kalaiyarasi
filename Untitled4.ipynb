{
 "cells": [
  {
   "cell_type": "code",
   "execution_count": 1,
   "id": "234c0645",
   "metadata": {},
   "outputs": [
    {
     "data": {
      "text/plain": [
       "5"
      ]
     },
     "execution_count": 1,
     "metadata": {},
     "output_type": "execute_result"
    }
   ],
   "source": [
    "def add(a,b):\n",
    "    return a+b\n",
    "add(2,3)"
   ]
  },
  {
   "cell_type": "code",
   "execution_count": 3,
   "id": "b120e90d",
   "metadata": {
    "scrolled": true
   },
   "outputs": [
    {
     "name": "stdout",
     "output_type": "stream",
     "text": [
      "2\n",
      "3\n"
     ]
    },
    {
     "data": {
      "text/plain": [
       "5"
      ]
     },
     "execution_count": 3,
     "metadata": {},
     "output_type": "execute_result"
    }
   ],
   "source": [
    "def add(a,b):\n",
    "    return a+b\n",
    "a=int(input())\n",
    "b=int(input())\n",
    "add(a,b)\n"
   ]
  },
  {
   "cell_type": "code",
   "execution_count": 7,
   "id": "d8b97ea4",
   "metadata": {},
   "outputs": [
    {
     "data": {
      "text/plain": [
       "16"
      ]
     },
     "execution_count": 7,
     "metadata": {},
     "output_type": "execute_result"
    }
   ],
   "source": [
    "def square(a):\n",
    "    return a**2\n",
    "square(4)"
   ]
  },
  {
   "cell_type": "code",
   "execution_count": 11,
   "id": "d9aceb97",
   "metadata": {},
   "outputs": [
    {
     "name": "stdout",
     "output_type": "stream",
     "text": [
      "2 4 6 8 10 "
     ]
    }
   ],
   "source": [
    "list1 = [1,2,3,4,5,6,7,8,9,10]\n",
    "for num in list1:\n",
    "    if num % 2 == 0:\n",
    "        print(num, end=\" \")"
   ]
  },
  {
   "cell_type": "code",
   "execution_count": 14,
   "id": "68d9c8af",
   "metadata": {},
   "outputs": [
    {
     "name": "stdout",
     "output_type": "stream",
     "text": [
      "1\n",
      "4\n",
      "9\n",
      "16\n",
      "25\n",
      "36\n",
      "49\n",
      "64\n",
      "81\n",
      "100\n"
     ]
    }
   ],
   "source": [
    "l=[1,2,3,4,5,6,7,8,9,10]\n",
    "for num in l:\n",
    "    print(num**2)"
   ]
  },
  {
   "cell_type": "code",
   "execution_count": 19,
   "id": "cdebca85",
   "metadata": {},
   "outputs": [
    {
     "name": "stdout",
     "output_type": "stream",
     "text": [
      "4\n",
      "16\n",
      "36\n",
      "64\n",
      "100\n"
     ]
    }
   ],
   "source": [
    "l=[1,2,3,4,5,6,7,8,9,10]\n",
    "for num in l:\n",
    "    if num % 2== 0:\n",
    "        print(num**2)"
   ]
  },
  {
   "cell_type": "code",
   "execution_count": 21,
   "id": "0d505222",
   "metadata": {},
   "outputs": [
    {
     "ename": "NameError",
     "evalue": "name 'reduce' is not defined",
     "output_type": "error",
     "traceback": [
      "\u001b[0;31m---------------------------------------------------------------------------\u001b[0m",
      "\u001b[0;31mNameError\u001b[0m                                 Traceback (most recent call last)",
      "\u001b[0;32m/var/folders/bs/wq_0zmxs14l_wf2ts_fyt1pm0000gp/T/ipykernel_2872/2876226363.py\u001b[0m in \u001b[0;36m<module>\u001b[0;34m\u001b[0m\n\u001b[1;32m      1\u001b[0m \u001b[0ml1\u001b[0m\u001b[0;34m=\u001b[0m\u001b[0;34m[\u001b[0m\u001b[0mi\u001b[0m \u001b[0;32mfor\u001b[0m \u001b[0mi\u001b[0m \u001b[0;32min\u001b[0m \u001b[0mrange\u001b[0m\u001b[0;34m(\u001b[0m\u001b[0;36m1\u001b[0m\u001b[0;34m,\u001b[0m\u001b[0;36m11\u001b[0m\u001b[0;34m)\u001b[0m\u001b[0;34m]\u001b[0m\u001b[0;34m\u001b[0m\u001b[0;34m\u001b[0m\u001b[0m\n\u001b[0;32m----> 2\u001b[0;31m \u001b[0ml5\u001b[0m\u001b[0;34m=\u001b[0m\u001b[0mreduce\u001b[0m\u001b[0;34m(\u001b[0m\u001b[0;32mlambda\u001b[0m \u001b[0mb\u001b[0m\u001b[0;34m,\u001b[0m\u001b[0mc\u001b[0m\u001b[0;34m:\u001b[0m\u001b[0mb\u001b[0m\u001b[0;34m+\u001b[0m\u001b[0mc\u001b[0m\u001b[0;34m,\u001b[0m\u001b[0mlist\u001b[0m\u001b[0;34m(\u001b[0m\u001b[0mmap\u001b[0m\u001b[0;34m(\u001b[0m\u001b[0;32mlambda\u001b[0m \u001b[0ma\u001b[0m\u001b[0;34m:\u001b[0m\u001b[0ma\u001b[0m\u001b[0;34m*\u001b[0m\u001b[0ma\u001b[0m\u001b[0;34m,\u001b[0m\u001b[0mfilter\u001b[0m\u001b[0;34m(\u001b[0m\u001b[0;32mlambda\u001b[0m \u001b[0mx\u001b[0m\u001b[0;34m:\u001b[0m\u001b[0mx\u001b[0m\u001b[0;34m%\u001b[0m\u001b[0;36m2\u001b[0m\u001b[0;34m==\u001b[0m\u001b[0;36m0\u001b[0m\u001b[0;34m,\u001b[0m\u001b[0ml1\u001b[0m\u001b[0;34m)\u001b[0m\u001b[0;34m)\u001b[0m\u001b[0;34m)\u001b[0m\u001b[0;34m)\u001b[0m\u001b[0;34m\u001b[0m\u001b[0;34m\u001b[0m\u001b[0m\n\u001b[0m\u001b[1;32m      3\u001b[0m \u001b[0ml5\u001b[0m\u001b[0;34m\u001b[0m\u001b[0;34m\u001b[0m\u001b[0m\n",
      "\u001b[0;31mNameError\u001b[0m: name 'reduce' is not defined"
     ]
    }
   ],
   "source": [
    "l1=[i for i in range(1,11)]\n",
    "l5=reduce(lambda b,c:b+c,list(map(lambda a:a*a,filter(lambda x:x%2==0,l1))))\n",
    "l5"
   ]
  },
  {
   "cell_type": "code",
   "execution_count": 25,
   "id": "316456e0",
   "metadata": {},
   "outputs": [
    {
     "name": "stdout",
     "output_type": "stream",
     "text": [
      "van\n"
     ]
    }
   ],
   "source": [
    "mytuple=(\"van\",\"car\",\"bus\")\n",
    "myit=iter(mytuple)\n",
    "print(next(myit))"
   ]
  },
  {
   "cell_type": "code",
   "execution_count": 27,
   "id": "7c5acc3f",
   "metadata": {},
   "outputs": [
    {
     "name": "stdout",
     "output_type": "stream",
     "text": [
      "van\n",
      "car\n"
     ]
    }
   ],
   "source": [
    "a=(\"van\",\"car\",\"bus\")\n",
    "b=iter(mytuple)\n",
    "print(next(b))\n",
    "print(next(b))"
   ]
  },
  {
   "cell_type": "code",
   "execution_count": 34,
   "id": "b62b09ff",
   "metadata": {},
   "outputs": [
    {
     "name": "stdout",
     "output_type": "stream",
     "text": [
      "say\n",
      "kalai\n"
     ]
    }
   ],
   "source": [
    "try:\n",
    "    print(\"say\")\n",
    "except:\n",
    "    print(\"hii to\")\n",
    "finally:\n",
    "    print(\"kalai\")"
   ]
  },
  {
   "cell_type": "code",
   "execution_count": 1,
   "id": "f64600d9",
   "metadata": {},
   "outputs": [
    {
     "name": "stdout",
     "output_type": "stream",
     "text": [
      "say\n",
      "bye\n",
      "kalai\n"
     ]
    }
   ],
   "source": [
    "try:\n",
    "    print(\"say\")\n",
    "except:\n",
    "    print(\"hii to\")\n",
    "else:\n",
    "    print(\"bye\")\n",
    "finally:\n",
    "    print(\"kalai\")"
   ]
  },
  {
   "cell_type": "code",
   "execution_count": 2,
   "id": "0044bce4",
   "metadata": {},
   "outputs": [
    {
     "name": "stdout",
     "output_type": "stream",
     "text": [
      "hii to\n",
      "kalai\n"
     ]
    }
   ],
   "source": [
    "try:\n",
    "    print(z)\n",
    "    print(\"say\")\n",
    "except:\n",
    "    print(\"hii to\")\n",
    "else:\n",
    "    print(\"bye\")\n",
    "finally:\n",
    "    print(\"kalai\")"
   ]
  },
  {
   "cell_type": "code",
   "execution_count": 8,
   "id": "17d09dae",
   "metadata": {},
   "outputs": [],
   "source": [
    "import pickle\n",
    "d={'name':'kalai','age':22,'place':'chennai'}\n",
    "with open('kalai.txt','wb') as i:\n",
    "    pickle.dump(d,i)"
   ]
  },
  {
   "cell_type": "code",
   "execution_count": 9,
   "id": "e4f83416",
   "metadata": {},
   "outputs": [
    {
     "name": "stdout",
     "output_type": "stream",
     "text": [
      "{'name': 'kalai', 'age': 22, 'place': 'chennai'}\n"
     ]
    }
   ],
   "source": [
    "import pickle\n",
    "a=open('kalai.txt','rb')\n",
    "b=pickle.load(a)\n",
    "print(b)"
   ]
  },
  {
   "cell_type": "code",
   "execution_count": 10,
   "id": "96a7056d",
   "metadata": {},
   "outputs": [
    {
     "name": "stdout",
     "output_type": "stream",
     "text": [
      "hii to\n",
      "kalai\n"
     ]
    }
   ],
   "source": [
    "n=open('kalai.txt','r')\n",
    "try:\n",
    "    print(n.read())\n",
    "except:\n",
    "    print(\"hii to\")\n",
    "else:\n",
    "    print(\"bye\")\n",
    "finally:\n",
    "    print(\"kalai\")"
   ]
  },
  {
   "cell_type": "code",
   "execution_count": 11,
   "id": "89b24d63",
   "metadata": {},
   "outputs": [
    {
     "name": "stdout",
     "output_type": "stream",
     "text": [
      "kalai\n"
     ]
    }
   ],
   "source": [
    "def fnctn():\n",
    "    a=\"kalai\"\n",
    "    print(a)\n",
    "    \n",
    "fnctn()\n"
   ]
  },
  {
   "cell_type": "code",
   "execution_count": 13,
   "id": "1378d045",
   "metadata": {},
   "outputs": [
    {
     "name": "stdout",
     "output_type": "stream",
     "text": [
      "0\n"
     ]
    }
   ],
   "source": [
    "a=0\n",
    "def sub():\n",
    "    print(a)\n",
    "sub()"
   ]
  },
  {
   "cell_type": "code",
   "execution_count": 18,
   "id": "bf55fe76",
   "metadata": {},
   "outputs": [
    {
     "name": "stdout",
     "output_type": "stream",
     "text": [
      "3\n",
      "3\n"
     ]
    }
   ],
   "source": [
    "a=3\n",
    "def add():\n",
    "    global a\n",
    "    a=a+2\n",
    "    print(a)\n",
    "sub()\n",
    "print(a)"
   ]
  },
  {
   "cell_type": "code",
   "execution_count": 19,
   "id": "ce3ecf20",
   "metadata": {},
   "outputs": [
    {
     "data": {
      "text/plain": [
       "15"
      ]
     },
     "execution_count": 19,
     "metadata": {},
     "output_type": "execute_result"
    }
   ],
   "source": [
    "def add(a,b):\n",
    "    return a+b\n",
    "add(7,8)"
   ]
  },
  {
   "cell_type": "code",
   "execution_count": 22,
   "id": "456a1044",
   "metadata": {},
   "outputs": [
    {
     "name": "stdout",
     "output_type": "stream",
     "text": [
      "(1, 2, 3, 4, 5)\n"
     ]
    }
   ],
   "source": [
    "def sample1(*a):\n",
    "    print(a)\n",
    "sample1(1,2,3,4,5)"
   ]
  },
  {
   "cell_type": "code",
   "execution_count": 28,
   "id": "a2ace2b1",
   "metadata": {},
   "outputs": [
    {
     "data": {
      "text/plain": [
       "'yellow'"
      ]
     },
     "execution_count": 28,
     "metadata": {},
     "output_type": "execute_result"
    }
   ],
   "source": [
    "class bus:\n",
    "    model = 'mtc'\n",
    "    color = 'yellow'\n",
    "    \n",
    "o=bus()\n",
    "o.color\n",
    "\n"
   ]
  },
  {
   "cell_type": "code",
   "execution_count": 30,
   "id": "8d71eca0",
   "metadata": {},
   "outputs": [
    {
     "data": {
      "text/plain": [
       "'mtc'"
      ]
     },
     "execution_count": 30,
     "metadata": {},
     "output_type": "execute_result"
    }
   ],
   "source": [
    "o.model"
   ]
  },
  {
   "cell_type": "code",
   "execution_count": null,
   "id": "44f16cc8",
   "metadata": {},
   "outputs": [],
   "source": []
  }
 ],
 "metadata": {
  "kernelspec": {
   "display_name": "Python 3 (ipykernel)",
   "language": "python",
   "name": "python3"
  },
  "language_info": {
   "codemirror_mode": {
    "name": "ipython",
    "version": 3
   },
   "file_extension": ".py",
   "mimetype": "text/x-python",
   "name": "python",
   "nbconvert_exporter": "python",
   "pygments_lexer": "ipython3",
   "version": "3.9.7"
  }
 },
 "nbformat": 4,
 "nbformat_minor": 5
}
