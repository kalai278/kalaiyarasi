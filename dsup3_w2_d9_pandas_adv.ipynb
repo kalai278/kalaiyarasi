{
 "cells": [
  {
   "cell_type": "code",
   "execution_count": 11,
   "id": "54a5c43e",
   "metadata": {},
   "outputs": [
    {
     "data": {
      "text/html": [
       "<div>\n",
       "<style scoped>\n",
       "    .dataframe tbody tr th:only-of-type {\n",
       "        vertical-align: middle;\n",
       "    }\n",
       "\n",
       "    .dataframe tbody tr th {\n",
       "        vertical-align: top;\n",
       "    }\n",
       "\n",
       "    .dataframe thead th {\n",
       "        text-align: right;\n",
       "    }\n",
       "</style>\n",
       "<table border=\"1\" class=\"dataframe\">\n",
       "  <thead>\n",
       "    <tr style=\"text-align: right;\">\n",
       "      <th></th>\n",
       "      <th>Unnamed: 0</th>\n",
       "      <th>SI</th>\n",
       "      <th>User story</th>\n",
       "      <th>Tasks</th>\n",
       "    </tr>\n",
       "  </thead>\n",
       "  <tbody>\n",
       "    <tr>\n",
       "      <th>0</th>\n",
       "      <td>0</td>\n",
       "      <td>1.0</td>\n",
       "      <td>Project understaning - Customer segmentation</td>\n",
       "      <td>NaN</td>\n",
       "    </tr>\n",
       "    <tr>\n",
       "      <th>1</th>\n",
       "      <td>1</td>\n",
       "      <td>2.0</td>\n",
       "      <td>Requirement analysis</td>\n",
       "      <td>NaN</td>\n",
       "    </tr>\n",
       "    <tr>\n",
       "      <th>2</th>\n",
       "      <td>2</td>\n",
       "      <td>3.0</td>\n",
       "      <td>Design Analysis</td>\n",
       "      <td>understanding Approach</td>\n",
       "    </tr>\n",
       "    <tr>\n",
       "      <th>3</th>\n",
       "      <td>3</td>\n",
       "      <td>4.0</td>\n",
       "      <td>Getting AWS environment access</td>\n",
       "      <td>User creation and Access for S3 , Sagemaker an...</td>\n",
       "    </tr>\n",
       "    <tr>\n",
       "      <th>4</th>\n",
       "      <td>4</td>\n",
       "      <td>5.0</td>\n",
       "      <td>Analyse Data</td>\n",
       "      <td>NaN</td>\n",
       "    </tr>\n",
       "    <tr>\n",
       "      <th>5</th>\n",
       "      <td>5</td>\n",
       "      <td>13.0</td>\n",
       "      <td>Workflow scripts</td>\n",
       "      <td>Create the workflow scripts for Process, condi...</td>\n",
       "    </tr>\n",
       "    <tr>\n",
       "      <th>6</th>\n",
       "      <td>6</td>\n",
       "      <td>14.0</td>\n",
       "      <td>Empty</td>\n",
       "      <td>Register model</td>\n",
       "    </tr>\n",
       "    <tr>\n",
       "      <th>7</th>\n",
       "      <td>7</td>\n",
       "      <td>15.0</td>\n",
       "      <td>Empty</td>\n",
       "      <td>Parametrized Pipeline executions</td>\n",
       "    </tr>\n",
       "    <tr>\n",
       "      <th>8</th>\n",
       "      <td>8</td>\n",
       "      <td>16.0</td>\n",
       "      <td>Hyper parameter tuning</td>\n",
       "      <td>NaN</td>\n",
       "    </tr>\n",
       "    <tr>\n",
       "      <th>9</th>\n",
       "      <td>9</td>\n",
       "      <td>17.0</td>\n",
       "      <td>Endpoints</td>\n",
       "      <td>NaN</td>\n",
       "    </tr>\n",
       "    <tr>\n",
       "      <th>10</th>\n",
       "      <td>10</td>\n",
       "      <td>18.0</td>\n",
       "      <td>Visualisation</td>\n",
       "      <td>connecting Notebook with Quicksight</td>\n",
       "    </tr>\n",
       "    <tr>\n",
       "      <th>11</th>\n",
       "      <td>11</td>\n",
       "      <td>19.0</td>\n",
       "      <td>Empty</td>\n",
       "      <td>Creating dashboard</td>\n",
       "    </tr>\n",
       "    <tr>\n",
       "      <th>12</th>\n",
       "      <td>12</td>\n",
       "      <td>20.0</td>\n",
       "      <td>Unit testing</td>\n",
       "      <td>NaN</td>\n",
       "    </tr>\n",
       "    <tr>\n",
       "      <th>13</th>\n",
       "      <td>13</td>\n",
       "      <td>21.0</td>\n",
       "      <td>Code review</td>\n",
       "      <td>NaN</td>\n",
       "    </tr>\n",
       "    <tr>\n",
       "      <th>14</th>\n",
       "      <td>14</td>\n",
       "      <td>22.0</td>\n",
       "      <td>Devops CICD</td>\n",
       "      <td>creation of cicd pipeline</td>\n",
       "    </tr>\n",
       "    <tr>\n",
       "      <th>15</th>\n",
       "      <td>15</td>\n",
       "      <td>24.0</td>\n",
       "      <td>Model monitoring</td>\n",
       "      <td>NaN</td>\n",
       "    </tr>\n",
       "    <tr>\n",
       "      <th>16</th>\n",
       "      <td>16</td>\n",
       "      <td>NaN</td>\n",
       "      <td>NaN</td>\n",
       "      <td>NaN</td>\n",
       "    </tr>\n",
       "    <tr>\n",
       "      <th>17</th>\n",
       "      <td>17</td>\n",
       "      <td>NaN</td>\n",
       "      <td>create data pipeline to productionise the mode...</td>\n",
       "      <td>Access the S3</td>\n",
       "    </tr>\n",
       "  </tbody>\n",
       "</table>\n",
       "</div>"
      ],
      "text/plain": [
       "    Unnamed: 0    SI                                        User story   \\\n",
       "0            0   1.0       Project understaning - Customer segmentation   \n",
       "1            1   2.0                              Requirement analysis    \n",
       "2            2   3.0                                   Design Analysis    \n",
       "3            3   4.0                     Getting AWS environment access   \n",
       "4            4   5.0                                      Analyse Data    \n",
       "5            5  13.0                                  Workflow scripts    \n",
       "6            6  14.0                                              Empty   \n",
       "7            7  15.0                                              Empty   \n",
       "8            8  16.0                            Hyper parameter tuning    \n",
       "9            9  17.0                                          Endpoints   \n",
       "10          10  18.0                                     Visualisation    \n",
       "11          11  19.0                                              Empty   \n",
       "12          12  20.0                                      Unit testing    \n",
       "13          13  21.0                                       Code review    \n",
       "14          14  22.0                                        Devops CICD   \n",
       "15          15  24.0                                   Model monitoring   \n",
       "16          16   NaN                                                NaN   \n",
       "17          17   NaN  create data pipeline to productionise the mode...   \n",
       "\n",
       "                                               Tasks   \n",
       "0                                                 NaN  \n",
       "1                                                 NaN  \n",
       "2                             understanding Approach   \n",
       "3   User creation and Access for S3 , Sagemaker an...  \n",
       "4                                                 NaN  \n",
       "5   Create the workflow scripts for Process, condi...  \n",
       "6                                     Register model   \n",
       "7                    Parametrized Pipeline executions  \n",
       "8                                                 NaN  \n",
       "9                                                 NaN  \n",
       "10               connecting Notebook with Quicksight   \n",
       "11                                Creating dashboard   \n",
       "12                                                NaN  \n",
       "13                                                NaN  \n",
       "14                         creation of cicd pipeline   \n",
       "15                                                NaN  \n",
       "16                                                NaN  \n",
       "17                                      Access the S3  "
      ]
     },
     "execution_count": 11,
     "metadata": {},
     "output_type": "execute_result"
    }
   ],
   "source": [
    "import pandas as pd \n",
    "df = pd.read_excel(r'C:\\Users\\balachandar.k\\Desktop\\Project.xlsx')\n",
    "df"
   ]
  },
  {
   "cell_type": "code",
   "execution_count": 3,
   "id": "b30ad9da",
   "metadata": {},
   "outputs": [],
   "source": [
    "df.fillna('Empty',inplace=True)"
   ]
  },
  {
   "cell_type": "code",
   "execution_count": 4,
   "id": "9333f2d6",
   "metadata": {},
   "outputs": [],
   "source": [
    "df.to_excel(r'C:\\Users\\balachandar.k\\Desktop\\project.xlsx')"
   ]
  },
  {
   "cell_type": "code",
   "execution_count": 6,
   "id": "c69c9b6b",
   "metadata": {},
   "outputs": [
    {
     "name": "stdout",
     "output_type": "stream",
     "text": [
      "      col1 col2\n",
      "row1     1    x\n",
      "row2     2    y\n",
      "row3     3    z\n"
     ]
    }
   ],
   "source": [
    "import json\n",
    "\n",
    "# json string                                                                                                                \n",
    "s = '{\"col1\":{\"row1\":1,\"row2\":2,\"row3\":3},\"col2\":{\"row1\":\"x\",\"row2\":\"y\",\"row3\":\"z\"}}'\n",
    "\n",
    "# read json to data frame                                                                                                    \n",
    "df = pd.read_json(s)\n",
    "print(df)"
   ]
  },
  {
   "cell_type": "code",
   "execution_count": 7,
   "id": "222f7955",
   "metadata": {},
   "outputs": [
    {
     "name": "stdout",
     "output_type": "stream",
     "text": [
      "                             provider  \\\n",
      "AED  https://www.exchangerate-api.com   \n",
      "AFN  https://www.exchangerate-api.com   \n",
      "ALL  https://www.exchangerate-api.com   \n",
      "AMD  https://www.exchangerate-api.com   \n",
      "ANG  https://www.exchangerate-api.com   \n",
      "..                                ...   \n",
      "XPF  https://www.exchangerate-api.com   \n",
      "YER  https://www.exchangerate-api.com   \n",
      "ZAR  https://www.exchangerate-api.com   \n",
      "ZMW  https://www.exchangerate-api.com   \n",
      "ZWL  https://www.exchangerate-api.com   \n",
      "\n",
      "                          WARNING_UPGRADE_TO_V6  \\\n",
      "AED  https://www.exchangerate-api.com/docs/free   \n",
      "AFN  https://www.exchangerate-api.com/docs/free   \n",
      "ALL  https://www.exchangerate-api.com/docs/free   \n",
      "AMD  https://www.exchangerate-api.com/docs/free   \n",
      "ANG  https://www.exchangerate-api.com/docs/free   \n",
      "..                                          ...   \n",
      "XPF  https://www.exchangerate-api.com/docs/free   \n",
      "YER  https://www.exchangerate-api.com/docs/free   \n",
      "ZAR  https://www.exchangerate-api.com/docs/free   \n",
      "ZMW  https://www.exchangerate-api.com/docs/free   \n",
      "ZWL  https://www.exchangerate-api.com/docs/free   \n",
      "\n",
      "                                      terms base       date  \\\n",
      "AED  https://www.exchangerate-api.com/terms  USD 2022-03-17   \n",
      "AFN  https://www.exchangerate-api.com/terms  USD 2022-03-17   \n",
      "ALL  https://www.exchangerate-api.com/terms  USD 2022-03-17   \n",
      "AMD  https://www.exchangerate-api.com/terms  USD 2022-03-17   \n",
      "ANG  https://www.exchangerate-api.com/terms  USD 2022-03-17   \n",
      "..                                      ...  ...        ...   \n",
      "XPF  https://www.exchangerate-api.com/terms  USD 2022-03-17   \n",
      "YER  https://www.exchangerate-api.com/terms  USD 2022-03-17   \n",
      "ZAR  https://www.exchangerate-api.com/terms  USD 2022-03-17   \n",
      "ZMW  https://www.exchangerate-api.com/terms  USD 2022-03-17   \n",
      "ZWL  https://www.exchangerate-api.com/terms  USD 2022-03-17   \n",
      "\n",
      "     time_last_updated   rates  \n",
      "AED         1647475202    3.67  \n",
      "AFN         1647475202   87.31  \n",
      "ALL         1647475202  111.97  \n",
      "AMD         1647475202  497.78  \n",
      "ANG         1647475202    1.79  \n",
      "..                 ...     ...  \n",
      "XPF         1647475202  108.48  \n",
      "YER         1647475202  250.12  \n",
      "ZAR         1647475202   14.98  \n",
      "ZMW         1647475202   17.74  \n",
      "ZWL         1647475202  134.15  \n",
      "\n",
      "[161 rows x 7 columns]\n"
     ]
    }
   ],
   "source": [
    "from pandas.io.json import json_normalize\n",
    "import pandas as pd\n",
    "\n",
    "url = \"https://api.exchangerate-api.com/v4/latest/USD\"\n",
    "df = pd.read_json(url)\n",
    "print(df)"
   ]
  },
  {
   "cell_type": "code",
   "execution_count": 8,
   "id": "5f8b6957",
   "metadata": {},
   "outputs": [],
   "source": [
    "import json\n",
    "data = [['Axel',32], ['Alice', 26], ['Alex', 45]]\n",
    "df = pd.DataFrame(data,columns=['Name','Age'])\n",
    "df.to_json(r'C:\\Users\\balachandar.k\\Desktop\\example.json')"
   ]
  },
  {
   "cell_type": "code",
   "execution_count": 9,
   "id": "302c14c5",
   "metadata": {},
   "outputs": [],
   "source": [
    "import pandas as pd \n",
    "df = pd.read_excel(r'C:\\Users\\balachandar.k\\Desktop\\Project.xlsx')\n",
    "df.to_json(r'C:\\Users\\balachandar.k\\Desktop\\Projectjson.json')"
   ]
  },
  {
   "cell_type": "code",
   "execution_count": 10,
   "id": "c2ccaa11",
   "metadata": {},
   "outputs": [
    {
     "data": {
      "text/html": [
       "<div>\n",
       "<style scoped>\n",
       "    .dataframe tbody tr th:only-of-type {\n",
       "        vertical-align: middle;\n",
       "    }\n",
       "\n",
       "    .dataframe tbody tr th {\n",
       "        vertical-align: top;\n",
       "    }\n",
       "\n",
       "    .dataframe thead th {\n",
       "        text-align: right;\n",
       "    }\n",
       "</style>\n",
       "<table border=\"1\" class=\"dataframe\">\n",
       "  <thead>\n",
       "    <tr style=\"text-align: right;\">\n",
       "      <th></th>\n",
       "      <th>Unnamed: 0</th>\n",
       "      <th>SI</th>\n",
       "      <th>User story</th>\n",
       "      <th>Tasks</th>\n",
       "    </tr>\n",
       "  </thead>\n",
       "  <tbody>\n",
       "    <tr>\n",
       "      <th>0</th>\n",
       "      <td>0</td>\n",
       "      <td>1.0</td>\n",
       "      <td>Project understaning - Customer segmentation</td>\n",
       "      <td>None</td>\n",
       "    </tr>\n",
       "    <tr>\n",
       "      <th>1</th>\n",
       "      <td>1</td>\n",
       "      <td>2.0</td>\n",
       "      <td>Requirement analysis</td>\n",
       "      <td>None</td>\n",
       "    </tr>\n",
       "    <tr>\n",
       "      <th>2</th>\n",
       "      <td>2</td>\n",
       "      <td>3.0</td>\n",
       "      <td>Design Analysis</td>\n",
       "      <td>understanding Approach</td>\n",
       "    </tr>\n",
       "    <tr>\n",
       "      <th>3</th>\n",
       "      <td>3</td>\n",
       "      <td>4.0</td>\n",
       "      <td>Getting AWS environment access</td>\n",
       "      <td>User creation and Access for S3 , Sagemaker an...</td>\n",
       "    </tr>\n",
       "    <tr>\n",
       "      <th>4</th>\n",
       "      <td>4</td>\n",
       "      <td>5.0</td>\n",
       "      <td>Analyse Data</td>\n",
       "      <td>None</td>\n",
       "    </tr>\n",
       "    <tr>\n",
       "      <th>5</th>\n",
       "      <td>5</td>\n",
       "      <td>13.0</td>\n",
       "      <td>Workflow scripts</td>\n",
       "      <td>Create the workflow scripts for Process, condi...</td>\n",
       "    </tr>\n",
       "    <tr>\n",
       "      <th>6</th>\n",
       "      <td>6</td>\n",
       "      <td>14.0</td>\n",
       "      <td>Empty</td>\n",
       "      <td>Register model</td>\n",
       "    </tr>\n",
       "    <tr>\n",
       "      <th>7</th>\n",
       "      <td>7</td>\n",
       "      <td>15.0</td>\n",
       "      <td>Empty</td>\n",
       "      <td>Parametrized Pipeline executions</td>\n",
       "    </tr>\n",
       "    <tr>\n",
       "      <th>8</th>\n",
       "      <td>8</td>\n",
       "      <td>16.0</td>\n",
       "      <td>Hyper parameter tuning</td>\n",
       "      <td>None</td>\n",
       "    </tr>\n",
       "    <tr>\n",
       "      <th>9</th>\n",
       "      <td>9</td>\n",
       "      <td>17.0</td>\n",
       "      <td>Endpoints</td>\n",
       "      <td>None</td>\n",
       "    </tr>\n",
       "    <tr>\n",
       "      <th>10</th>\n",
       "      <td>10</td>\n",
       "      <td>18.0</td>\n",
       "      <td>Visualisation</td>\n",
       "      <td>connecting Notebook with Quicksight</td>\n",
       "    </tr>\n",
       "    <tr>\n",
       "      <th>11</th>\n",
       "      <td>11</td>\n",
       "      <td>19.0</td>\n",
       "      <td>Empty</td>\n",
       "      <td>Creating dashboard</td>\n",
       "    </tr>\n",
       "    <tr>\n",
       "      <th>12</th>\n",
       "      <td>12</td>\n",
       "      <td>20.0</td>\n",
       "      <td>Unit testing</td>\n",
       "      <td>None</td>\n",
       "    </tr>\n",
       "    <tr>\n",
       "      <th>13</th>\n",
       "      <td>13</td>\n",
       "      <td>21.0</td>\n",
       "      <td>Code review</td>\n",
       "      <td>None</td>\n",
       "    </tr>\n",
       "    <tr>\n",
       "      <th>14</th>\n",
       "      <td>14</td>\n",
       "      <td>22.0</td>\n",
       "      <td>Devops CICD</td>\n",
       "      <td>creation of cicd pipeline</td>\n",
       "    </tr>\n",
       "    <tr>\n",
       "      <th>15</th>\n",
       "      <td>15</td>\n",
       "      <td>24.0</td>\n",
       "      <td>Model monitoring</td>\n",
       "      <td>None</td>\n",
       "    </tr>\n",
       "    <tr>\n",
       "      <th>16</th>\n",
       "      <td>16</td>\n",
       "      <td>NaN</td>\n",
       "      <td>None</td>\n",
       "      <td>None</td>\n",
       "    </tr>\n",
       "    <tr>\n",
       "      <th>17</th>\n",
       "      <td>17</td>\n",
       "      <td>NaN</td>\n",
       "      <td>create data pipeline to productionise the mode...</td>\n",
       "      <td>Access the S3</td>\n",
       "    </tr>\n",
       "  </tbody>\n",
       "</table>\n",
       "</div>"
      ],
      "text/plain": [
       "    Unnamed: 0    SI                                        User story   \\\n",
       "0            0   1.0       Project understaning - Customer segmentation   \n",
       "1            1   2.0                              Requirement analysis    \n",
       "2            2   3.0                                   Design Analysis    \n",
       "3            3   4.0                     Getting AWS environment access   \n",
       "4            4   5.0                                      Analyse Data    \n",
       "5            5  13.0                                  Workflow scripts    \n",
       "6            6  14.0                                              Empty   \n",
       "7            7  15.0                                              Empty   \n",
       "8            8  16.0                            Hyper parameter tuning    \n",
       "9            9  17.0                                          Endpoints   \n",
       "10          10  18.0                                     Visualisation    \n",
       "11          11  19.0                                              Empty   \n",
       "12          12  20.0                                      Unit testing    \n",
       "13          13  21.0                                       Code review    \n",
       "14          14  22.0                                        Devops CICD   \n",
       "15          15  24.0                                   Model monitoring   \n",
       "16          16   NaN                                               None   \n",
       "17          17   NaN  create data pipeline to productionise the mode...   \n",
       "\n",
       "                                               Tasks   \n",
       "0                                                None  \n",
       "1                                                None  \n",
       "2                             understanding Approach   \n",
       "3   User creation and Access for S3 , Sagemaker an...  \n",
       "4                                                None  \n",
       "5   Create the workflow scripts for Process, condi...  \n",
       "6                                     Register model   \n",
       "7                    Parametrized Pipeline executions  \n",
       "8                                                None  \n",
       "9                                                None  \n",
       "10               connecting Notebook with Quicksight   \n",
       "11                                Creating dashboard   \n",
       "12                                               None  \n",
       "13                                               None  \n",
       "14                         creation of cicd pipeline   \n",
       "15                                               None  \n",
       "16                                               None  \n",
       "17                                      Access the S3  "
      ]
     },
     "execution_count": 10,
     "metadata": {},
     "output_type": "execute_result"
    }
   ],
   "source": [
    "df_f = pd.read_json(r'C:\\Users\\balachandar.k\\Desktop\\Projectjson.json')\n",
    "df_f"
   ]
  },
  {
   "cell_type": "code",
   "execution_count": 59,
   "id": "0bea8d91",
   "metadata": {},
   "outputs": [
    {
     "name": "stdout",
     "output_type": "stream",
     "text": [
      "    Courses    Fee Duration  Discount\n",
      "r1    Spark  20000    30day      1000\n",
      "r2  PySpark  25000   40days      2300\n",
      "r3   Hadoop  26000   35days      1200\n",
      "r4   Python  22000   40days      2500\n",
      "r5   pandas  24000   60days      2000\n"
     ]
    }
   ],
   "source": [
    "import pandas as pd\n",
    "technologies = {\n",
    "    'Courses':[\"Spark\",\"PySpark\",\"Hadoop\",\"Python\",\"pandas\"],\n",
    "    'Fee' :[20000,25000,26000,22000,24000],\n",
    "    'Duration':['30day','40days','35days','40days','60days'],\n",
    "    'Discount':[1000,2300,1200,2500,2000]\n",
    "              }\n",
    "index_labels=['r1','r2','r3','r4','r5']\n",
    "df = pd.DataFrame(technologies,index=index_labels)\n",
    "print(df)"
   ]
  },
  {
   "cell_type": "code",
   "execution_count": 14,
   "id": "829d90dc",
   "metadata": {},
   "outputs": [
    {
     "name": "stdout",
     "output_type": "stream",
     "text": [
      "Courses     PySpark\n",
      "Fee           25000\n",
      "Duration     40days\n",
      "Discount       2300\n",
      "Name: r2, dtype: object\n"
     ]
    }
   ],
   "source": [
    "# Select Single Row by Index Label\n",
    "print(df.loc['r2'])\n"
   ]
  },
  {
   "cell_type": "code",
   "execution_count": 15,
   "id": "493aef81",
   "metadata": {},
   "outputs": [
    {
     "name": "stdout",
     "output_type": "stream",
     "text": [
      "Courses     PySpark\n",
      "Fee           25000\n",
      "Duration     40days\n",
      "Discount       2300\n",
      "Name: r2, dtype: object\n"
     ]
    }
   ],
   "source": [
    "\n",
    "# Select Single Row by Index\n",
    "print(df.iloc[1])"
   ]
  },
  {
   "cell_type": "code",
   "execution_count": 16,
   "id": "ecd8cf82",
   "metadata": {},
   "outputs": [
    {
     "name": "stdout",
     "output_type": "stream",
     "text": [
      "r1      Spark\n",
      "r2    PySpark\n",
      "r3     Hadoop\n",
      "r4     Python\n",
      "r5     pandas\n",
      "Name: Courses, dtype: object\n"
     ]
    }
   ],
   "source": [
    "# Select Single Column by label\n",
    "print(df.loc[:, \"Courses\"])\n"
   ]
  },
  {
   "cell_type": "code",
   "execution_count": 17,
   "id": "71919e30",
   "metadata": {},
   "outputs": [
    {
     "name": "stdout",
     "output_type": "stream",
     "text": [
      "r1      Spark\n",
      "r2    PySpark\n",
      "r3     Hadoop\n",
      "r4     Python\n",
      "r5     pandas\n",
      "Name: Courses, dtype: object\n"
     ]
    }
   ],
   "source": [
    "\n",
    "# Select Single Column by Index\n",
    "print(df.iloc[:, 0])"
   ]
  },
  {
   "cell_type": "code",
   "execution_count": 18,
   "id": "686ba3f3",
   "metadata": {},
   "outputs": [
    {
     "name": "stdout",
     "output_type": "stream",
     "text": [
      "    Courses    Fee Duration  Discount\n",
      "r2  PySpark  25000   40days      2300\n",
      "r3   Hadoop  26000   35days      1200\n"
     ]
    }
   ],
   "source": [
    "\n",
    "# Select Multiple Rows by Label\n",
    "print(df.loc[['r2','r3']])\n",
    "\n"
   ]
  },
  {
   "cell_type": "code",
   "execution_count": 19,
   "id": "5d359a78",
   "metadata": {},
   "outputs": [
    {
     "name": "stdout",
     "output_type": "stream",
     "text": [
      "    Courses    Fee Duration  Discount\n",
      "r2  PySpark  25000   40days      2300\n",
      "r3   Hadoop  26000   35days      1200\n"
     ]
    }
   ],
   "source": [
    "\n",
    "# Select Multiple Rows by Index\n",
    "print(df.iloc[[1,2]])"
   ]
  },
  {
   "cell_type": "code",
   "execution_count": 20,
   "id": "426caf83",
   "metadata": {},
   "outputs": [
    {
     "name": "stdout",
     "output_type": "stream",
     "text": [
      "    Courses    Fee  Discount\n",
      "r1    Spark  20000      1000\n",
      "r2  PySpark  25000      2300\n",
      "r3   Hadoop  26000      1200\n",
      "r4   Python  22000      2500\n",
      "r5   pandas  24000      2000\n"
     ]
    }
   ],
   "source": [
    "\n",
    "# Select Multiple Columns by labels\n",
    "print(df.loc[:, [\"Courses\",\"Fee\",\"Discount\"]])\n"
   ]
  },
  {
   "cell_type": "code",
   "execution_count": 21,
   "id": "43be0087",
   "metadata": {},
   "outputs": [
    {
     "name": "stdout",
     "output_type": "stream",
     "text": [
      "    Courses    Fee  Discount\n",
      "r1    Spark  20000      1000\n",
      "r2  PySpark  25000      2300\n",
      "r3   Hadoop  26000      1200\n",
      "r4   Python  22000      2500\n",
      "r5   pandas  24000      2000\n"
     ]
    }
   ],
   "source": [
    "\n",
    "# Select Multiple Columns by Index\n",
    "print(df.iloc[:, [0,1,3]])"
   ]
  },
  {
   "cell_type": "code",
   "execution_count": 22,
   "id": "8cc6a71e",
   "metadata": {},
   "outputs": [
    {
     "name": "stdout",
     "output_type": "stream",
     "text": [
      "    Courses    Fee Duration  Discount\n",
      "r1    Spark  20000    30day      1000\n",
      "r2  PySpark  25000   40days      2300\n",
      "r3   Hadoop  26000   35days      1200\n",
      "r4   Python  22000   40days      2500\n"
     ]
    }
   ],
   "source": [
    "# Select Rows Between two Index Labels\n",
    "# Includes both r1 and r4 rows\n",
    "print(df.loc['r1':'r4'])\n"
   ]
  },
  {
   "cell_type": "code",
   "execution_count": 23,
   "id": "03bce66c",
   "metadata": {},
   "outputs": [
    {
     "name": "stdout",
     "output_type": "stream",
     "text": [
      "    Courses    Fee Duration  Discount\n",
      "r1    Spark  20000    30day      1000\n",
      "r2  PySpark  25000   40days      2300\n",
      "r3   Hadoop  26000   35days      1200\n",
      "r4   Python  22000   40days      2500\n"
     ]
    }
   ],
   "source": [
    "\n",
    "# Select Rows Between two Indexs\n",
    "# Includes Index 0 & Execludes 4\n",
    "print(df.iloc[0:4])"
   ]
  },
  {
   "cell_type": "code",
   "execution_count": 60,
   "id": "45e8df6b",
   "metadata": {},
   "outputs": [
    {
     "data": {
      "text/html": [
       "<div>\n",
       "<style scoped>\n",
       "    .dataframe tbody tr th:only-of-type {\n",
       "        vertical-align: middle;\n",
       "    }\n",
       "\n",
       "    .dataframe tbody tr th {\n",
       "        vertical-align: top;\n",
       "    }\n",
       "\n",
       "    .dataframe thead th {\n",
       "        text-align: right;\n",
       "    }\n",
       "</style>\n",
       "<table border=\"1\" class=\"dataframe\">\n",
       "  <thead>\n",
       "    <tr style=\"text-align: right;\">\n",
       "      <th></th>\n",
       "      <th>Courses</th>\n",
       "      <th>Fee</th>\n",
       "      <th>Duration</th>\n",
       "      <th>Discount</th>\n",
       "    </tr>\n",
       "  </thead>\n",
       "  <tbody>\n",
       "    <tr>\n",
       "      <th>r1</th>\n",
       "      <td>Spark</td>\n",
       "      <td>20000</td>\n",
       "      <td>30day</td>\n",
       "      <td>1000</td>\n",
       "    </tr>\n",
       "    <tr>\n",
       "      <th>r2</th>\n",
       "      <td>PySpark</td>\n",
       "      <td>25000</td>\n",
       "      <td>40days</td>\n",
       "      <td>2300</td>\n",
       "    </tr>\n",
       "    <tr>\n",
       "      <th>r3</th>\n",
       "      <td>Hadoop</td>\n",
       "      <td>26000</td>\n",
       "      <td>35days</td>\n",
       "      <td>1200</td>\n",
       "    </tr>\n",
       "    <tr>\n",
       "      <th>r4</th>\n",
       "      <td>Python</td>\n",
       "      <td>22000</td>\n",
       "      <td>40days</td>\n",
       "      <td>2500</td>\n",
       "    </tr>\n",
       "    <tr>\n",
       "      <th>r5</th>\n",
       "      <td>pandas</td>\n",
       "      <td>24000</td>\n",
       "      <td>60days</td>\n",
       "      <td>2000</td>\n",
       "    </tr>\n",
       "  </tbody>\n",
       "</table>\n",
       "</div>"
      ],
      "text/plain": [
       "    Courses    Fee Duration  Discount\n",
       "r1    Spark  20000    30day      1000\n",
       "r2  PySpark  25000   40days      2300\n",
       "r3   Hadoop  26000   35days      1200\n",
       "r4   Python  22000   40days      2500\n",
       "r5   pandas  24000   60days      2000"
      ]
     },
     "execution_count": 60,
     "metadata": {},
     "output_type": "execute_result"
    }
   ],
   "source": [
    "df"
   ]
  },
  {
   "cell_type": "code",
   "execution_count": 24,
   "id": "15cf34af",
   "metadata": {},
   "outputs": [
    {
     "name": "stdout",
     "output_type": "stream",
     "text": [
      "      Fee Duration  Discount\n",
      "r1  20000    30day      1000\n",
      "r2  25000   40days      2300\n",
      "r3  26000   35days      1200\n",
      "r4  22000   40days      2500\n",
      "r5  24000   60days      2000\n"
     ]
    }
   ],
   "source": [
    "\n",
    "# Select Columns between two Labels\n",
    "# Includes both 'Fee' and 'Discount' columns\n",
    "print(df.loc[:,'Fee':'Discount'])\n"
   ]
  },
  {
   "cell_type": "code",
   "execution_count": 25,
   "id": "6555d1ea",
   "metadata": {},
   "outputs": [
    {
     "name": "stdout",
     "output_type": "stream",
     "text": [
      "      Fee Duration  Discount\n",
      "r1  20000    30day      1000\n",
      "r2  25000   40days      2300\n",
      "r3  26000   35days      1200\n",
      "r4  22000   40days      2500\n",
      "r5  24000   60days      2000\n"
     ]
    }
   ],
   "source": [
    "\n",
    "# Select Columns between two Indexes\n",
    "# Includes Index 1 & Execludes 4\n",
    "print(df.iloc[:,1:4])\n"
   ]
  },
  {
   "cell_type": "code",
   "execution_count": 26,
   "id": "8f352aeb",
   "metadata": {},
   "outputs": [
    {
     "name": "stdout",
     "output_type": "stream",
     "text": [
      "   Courses    Fee Duration  Discount\n",
      "r1   Spark  20000    30day      1000\n",
      "r3  Hadoop  26000   35days      1200\n"
     ]
    }
   ],
   "source": [
    "\n",
    "# Select Alternate rows By indeces\n",
    "print(df.loc['r1':'r4':2])\n",
    "\n"
   ]
  },
  {
   "cell_type": "code",
   "execution_count": 27,
   "id": "ba85887a",
   "metadata": {},
   "outputs": [
    {
     "name": "stdout",
     "output_type": "stream",
     "text": [
      "   Courses    Fee Duration  Discount\n",
      "r1   Spark  20000    30day      1000\n",
      "r3  Hadoop  26000   35days      1200\n"
     ]
    }
   ],
   "source": [
    "\n",
    "# Select Alternate rows By Index\n",
    "print(df.iloc[0:4:2])"
   ]
  },
  {
   "cell_type": "code",
   "execution_count": 28,
   "id": "dd79d77c",
   "metadata": {},
   "outputs": [
    {
     "name": "stdout",
     "output_type": "stream",
     "text": [
      "      Fee  Discount\n",
      "r1  20000      1000\n",
      "r2  25000      2300\n",
      "r3  26000      1200\n",
      "r4  22000      2500\n",
      "r5  24000      2000\n"
     ]
    }
   ],
   "source": [
    "# Select Alternate Columns between two Labels\n",
    "print(df.loc[:,'Fee':'Discount':2])\n"
   ]
  },
  {
   "cell_type": "code",
   "execution_count": 29,
   "id": "ef1e9c14",
   "metadata": {},
   "outputs": [
    {
     "name": "stdout",
     "output_type": "stream",
     "text": [
      "      Fee  Discount\n",
      "r1  20000      1000\n",
      "r2  25000      2300\n",
      "r3  26000      1200\n",
      "r4  22000      2500\n",
      "r5  24000      2000\n"
     ]
    }
   ],
   "source": [
    "\n",
    "# Select Alternate Columns between two Indexes\n",
    "print(df.iloc[:,1:4:2])"
   ]
  },
  {
   "cell_type": "code",
   "execution_count": 61,
   "id": "c5114605",
   "metadata": {},
   "outputs": [
    {
     "data": {
      "text/html": [
       "<div>\n",
       "<style scoped>\n",
       "    .dataframe tbody tr th:only-of-type {\n",
       "        vertical-align: middle;\n",
       "    }\n",
       "\n",
       "    .dataframe tbody tr th {\n",
       "        vertical-align: top;\n",
       "    }\n",
       "\n",
       "    .dataframe thead th {\n",
       "        text-align: right;\n",
       "    }\n",
       "</style>\n",
       "<table border=\"1\" class=\"dataframe\">\n",
       "  <thead>\n",
       "    <tr style=\"text-align: right;\">\n",
       "      <th></th>\n",
       "      <th>Courses</th>\n",
       "      <th>Fee</th>\n",
       "      <th>Duration</th>\n",
       "      <th>Discount</th>\n",
       "    </tr>\n",
       "  </thead>\n",
       "  <tbody>\n",
       "    <tr>\n",
       "      <th>r1</th>\n",
       "      <td>Spark</td>\n",
       "      <td>20000</td>\n",
       "      <td>30day</td>\n",
       "      <td>1000</td>\n",
       "    </tr>\n",
       "    <tr>\n",
       "      <th>r2</th>\n",
       "      <td>PySpark</td>\n",
       "      <td>25000</td>\n",
       "      <td>40days</td>\n",
       "      <td>2300</td>\n",
       "    </tr>\n",
       "    <tr>\n",
       "      <th>r3</th>\n",
       "      <td>Hadoop</td>\n",
       "      <td>26000</td>\n",
       "      <td>35days</td>\n",
       "      <td>1200</td>\n",
       "    </tr>\n",
       "    <tr>\n",
       "      <th>r4</th>\n",
       "      <td>Python</td>\n",
       "      <td>22000</td>\n",
       "      <td>40days</td>\n",
       "      <td>2500</td>\n",
       "    </tr>\n",
       "    <tr>\n",
       "      <th>r5</th>\n",
       "      <td>pandas</td>\n",
       "      <td>24000</td>\n",
       "      <td>60days</td>\n",
       "      <td>2000</td>\n",
       "    </tr>\n",
       "  </tbody>\n",
       "</table>\n",
       "</div>"
      ],
      "text/plain": [
       "    Courses    Fee Duration  Discount\n",
       "r1    Spark  20000    30day      1000\n",
       "r2  PySpark  25000   40days      2300\n",
       "r3   Hadoop  26000   35days      1200\n",
       "r4   Python  22000   40days      2500\n",
       "r5   pandas  24000   60days      2000"
      ]
     },
     "execution_count": 61,
     "metadata": {},
     "output_type": "execute_result"
    }
   ],
   "source": [
    "df"
   ]
  },
  {
   "cell_type": "code",
   "execution_count": 30,
   "id": "552464cc",
   "metadata": {},
   "outputs": [
    {
     "name": "stdout",
     "output_type": "stream",
     "text": [
      "    Courses    Fee Duration  Discount\n",
      "r2  PySpark  25000   40days      2300\n",
      "r3   Hadoop  26000   35days      1200\n",
      "r5   pandas  24000   60days      2000\n"
     ]
    }
   ],
   "source": [
    "\n",
    "# Using Conditions\n",
    "print(df.loc[df['Fee'] >= 24000])\n"
   ]
  },
  {
   "cell_type": "code",
   "execution_count": 31,
   "id": "168d4a2c",
   "metadata": {},
   "outputs": [
    {
     "name": "stdout",
     "output_type": "stream",
     "text": [
      "    Courses    Fee Duration  Discount\n",
      "r2  PySpark  25000   40days      2300\n",
      "r3   Hadoop  26000   35days      1200\n",
      "r5   pandas  24000   60days      2000\n"
     ]
    }
   ],
   "source": [
    "\n",
    "print(df.iloc[list(df['Fee'] >= 24000)])"
   ]
  },
  {
   "cell_type": "code",
   "execution_count": 74,
   "id": "1ade729d",
   "metadata": {},
   "outputs": [],
   "source": [
    "\n",
    "import pandas as pd\n",
    "technologies = {\n",
    "    'Courses':[\"Spark\",\"PySpark\",\"Python\",\"pandas\"],\n",
    "    'Fee' :[20000,25000,22000,30000],\n",
    "    'Duration':['30days','40days','35days','50days'],\n",
    "              }\n",
    "index_labels=['r1','r2','r3','r4']\n",
    "df1 = pd.DataFrame(technologies,index=index_labels)\n",
    "\n",
    "technologies2 = {\n",
    "    'Courses':[\"Spark\",\"Java\",\"Python\",\"Go\"],\n",
    "    'Discount':[2000,2300,1200,2000]\n",
    "              }\n",
    "index_labels2=['r1','r6','r3','r5']\n",
    "df2 = pd.DataFrame(technologies2,index=index_labels2)"
   ]
  },
  {
   "cell_type": "code",
   "execution_count": 75,
   "id": "7bad08bb",
   "metadata": {},
   "outputs": [
    {
     "data": {
      "text/html": [
       "<div>\n",
       "<style scoped>\n",
       "    .dataframe tbody tr th:only-of-type {\n",
       "        vertical-align: middle;\n",
       "    }\n",
       "\n",
       "    .dataframe tbody tr th {\n",
       "        vertical-align: top;\n",
       "    }\n",
       "\n",
       "    .dataframe thead th {\n",
       "        text-align: right;\n",
       "    }\n",
       "</style>\n",
       "<table border=\"1\" class=\"dataframe\">\n",
       "  <thead>\n",
       "    <tr style=\"text-align: right;\">\n",
       "      <th></th>\n",
       "      <th>Courses</th>\n",
       "      <th>Fee</th>\n",
       "      <th>Duration</th>\n",
       "    </tr>\n",
       "  </thead>\n",
       "  <tbody>\n",
       "    <tr>\n",
       "      <th>r1</th>\n",
       "      <td>Spark</td>\n",
       "      <td>20000</td>\n",
       "      <td>30days</td>\n",
       "    </tr>\n",
       "    <tr>\n",
       "      <th>r2</th>\n",
       "      <td>PySpark</td>\n",
       "      <td>25000</td>\n",
       "      <td>40days</td>\n",
       "    </tr>\n",
       "    <tr>\n",
       "      <th>r3</th>\n",
       "      <td>Python</td>\n",
       "      <td>22000</td>\n",
       "      <td>35days</td>\n",
       "    </tr>\n",
       "    <tr>\n",
       "      <th>r4</th>\n",
       "      <td>pandas</td>\n",
       "      <td>30000</td>\n",
       "      <td>50days</td>\n",
       "    </tr>\n",
       "  </tbody>\n",
       "</table>\n",
       "</div>"
      ],
      "text/plain": [
       "    Courses    Fee Duration\n",
       "r1    Spark  20000   30days\n",
       "r2  PySpark  25000   40days\n",
       "r3   Python  22000   35days\n",
       "r4   pandas  30000   50days"
      ]
     },
     "execution_count": 75,
     "metadata": {},
     "output_type": "execute_result"
    }
   ],
   "source": [
    "df1"
   ]
  },
  {
   "cell_type": "code",
   "execution_count": 76,
   "id": "50ea31ef",
   "metadata": {},
   "outputs": [
    {
     "data": {
      "text/html": [
       "<div>\n",
       "<style scoped>\n",
       "    .dataframe tbody tr th:only-of-type {\n",
       "        vertical-align: middle;\n",
       "    }\n",
       "\n",
       "    .dataframe tbody tr th {\n",
       "        vertical-align: top;\n",
       "    }\n",
       "\n",
       "    .dataframe thead th {\n",
       "        text-align: right;\n",
       "    }\n",
       "</style>\n",
       "<table border=\"1\" class=\"dataframe\">\n",
       "  <thead>\n",
       "    <tr style=\"text-align: right;\">\n",
       "      <th></th>\n",
       "      <th>Courses</th>\n",
       "      <th>Discount</th>\n",
       "    </tr>\n",
       "  </thead>\n",
       "  <tbody>\n",
       "    <tr>\n",
       "      <th>r1</th>\n",
       "      <td>Spark</td>\n",
       "      <td>2000</td>\n",
       "    </tr>\n",
       "    <tr>\n",
       "      <th>r6</th>\n",
       "      <td>Java</td>\n",
       "      <td>2300</td>\n",
       "    </tr>\n",
       "    <tr>\n",
       "      <th>r3</th>\n",
       "      <td>Python</td>\n",
       "      <td>1200</td>\n",
       "    </tr>\n",
       "    <tr>\n",
       "      <th>r5</th>\n",
       "      <td>Go</td>\n",
       "      <td>2000</td>\n",
       "    </tr>\n",
       "  </tbody>\n",
       "</table>\n",
       "</div>"
      ],
      "text/plain": [
       "   Courses  Discount\n",
       "r1   Spark      2000\n",
       "r6    Java      2300\n",
       "r3  Python      1200\n",
       "r5      Go      2000"
      ]
     },
     "execution_count": 76,
     "metadata": {},
     "output_type": "execute_result"
    }
   ],
   "source": [
    "df2"
   ]
  },
  {
   "cell_type": "code",
   "execution_count": 33,
   "id": "e223092d",
   "metadata": {},
   "outputs": [
    {
     "name": "stdout",
     "output_type": "stream",
     "text": [
      "   Courses_left    Fee Duration Courses_right  Discount\n",
      "r1        Spark  20000   30days         Spark    2000.0\n",
      "r2      PySpark  25000   40days           NaN       NaN\n",
      "r3       Python  22000   35days        Python    1200.0\n",
      "r4       pandas  30000   50days           NaN       NaN\n"
     ]
    }
   ],
   "source": [
    "\n",
    "# pandas join \n",
    "df3=df1.join(df2, lsuffix=\"_left\", rsuffix=\"_right\")\n",
    "print(df3)\n"
   ]
  },
  {
   "cell_type": "code",
   "execution_count": 34,
   "id": "284fa4d4",
   "metadata": {},
   "outputs": [
    {
     "name": "stdout",
     "output_type": "stream",
     "text": [
      "   Courses_left    Fee Duration Courses_right  Discount\n",
      "r1        Spark  20000   30days         Spark      2000\n",
      "r3       Python  22000   35days        Python      1200\n"
     ]
    }
   ],
   "source": [
    "\n",
    "# pandas Inner join DataFrames\n",
    "df3=df1.join(df2, lsuffix=\"_left\", rsuffix=\"_right\", how='inner')\n",
    "print(df3)\n"
   ]
  },
  {
   "cell_type": "code",
   "execution_count": 35,
   "id": "fcd967db",
   "metadata": {},
   "outputs": [
    {
     "name": "stdout",
     "output_type": "stream",
     "text": [
      "   Courses_left      Fee Duration Courses_right  Discount\n",
      "r1        Spark  20000.0   30days         Spark      2000\n",
      "r6          NaN      NaN      NaN          Java      2300\n",
      "r3       Python  22000.0   35days        Python      1200\n",
      "r5          NaN      NaN      NaN            Go      2000\n"
     ]
    }
   ],
   "source": [
    "\n",
    "# pandas Right join DataFrames\n",
    "df3=df1.join(df2, lsuffix=\"_left\", rsuffix=\"_right\", how='right')\n",
    "print(df3)"
   ]
  },
  {
   "cell_type": "code",
   "execution_count": 36,
   "id": "d448e879",
   "metadata": {},
   "outputs": [
    {
     "name": "stdout",
     "output_type": "stream",
     "text": [
      "   Courses_left      Fee Duration Courses_right  Discount\n",
      "r1        Spark  20000.0   30days         Spark    2000.0\n",
      "r2      PySpark  25000.0   40days           NaN       NaN\n",
      "r3       Python  22000.0   35days        Python    1200.0\n",
      "r4       pandas  30000.0   50days           NaN       NaN\n",
      "r5          NaN      NaN      NaN            Go    2000.0\n",
      "r6          NaN      NaN      NaN          Java    2300.0\n"
     ]
    }
   ],
   "source": [
    "\n",
    "# pandas outer join DataFrames\n",
    "df3=df1.join(df2, lsuffix=\"_left\", rsuffix=\"_right\", how='outer')\n",
    "print(df3)\n"
   ]
  },
  {
   "cell_type": "code",
   "execution_count": 37,
   "id": "6a8e6bc4",
   "metadata": {},
   "outputs": [
    {
     "name": "stdout",
     "output_type": "stream",
     "text": [
      "           Fee Duration  Discount\n",
      "Courses                          \n",
      "Spark    20000   30days      2000\n",
      "Python   22000   35days      1200\n"
     ]
    }
   ],
   "source": [
    "\n",
    "# pandas join on columns\n",
    "df3=df1.set_index('Courses').join(df2.set_index('Courses'), how='inner')\n",
    "print(df3)\n"
   ]
  },
  {
   "cell_type": "code",
   "execution_count": 38,
   "id": "1d3e1d96",
   "metadata": {},
   "outputs": [],
   "source": [
    "\n",
    "import pandas as pd\n",
    "technologies = {\n",
    "    'Courses':[\"Spark\",\"PySpark\",\"Python\",\"pandas\"],\n",
    "    'Fee' :[20000,25000,22000,30000],\n",
    "    'Duration':['30days','40days','35days','50days'],\n",
    "              }\n",
    "index_labels=['r1','r2','r3','r4']\n",
    "df1 = pd.DataFrame(technologies,index=index_labels)\n",
    "\n",
    "technologies2 = {\n",
    "    'Courses':[\"Spark\",\"Java\",\"Python\",\"Go\"],\n",
    "    'Discount':[2000,2300,1200,2000]\n",
    "              }\n",
    "index_labels2=['r1','r6','r3','r5']\n",
    "df2 = pd.DataFrame(technologies2,index=index_labels2)"
   ]
  },
  {
   "cell_type": "code",
   "execution_count": 40,
   "id": "0b131083",
   "metadata": {},
   "outputs": [
    {
     "data": {
      "text/html": [
       "<div>\n",
       "<style scoped>\n",
       "    .dataframe tbody tr th:only-of-type {\n",
       "        vertical-align: middle;\n",
       "    }\n",
       "\n",
       "    .dataframe tbody tr th {\n",
       "        vertical-align: top;\n",
       "    }\n",
       "\n",
       "    .dataframe thead th {\n",
       "        text-align: right;\n",
       "    }\n",
       "</style>\n",
       "<table border=\"1\" class=\"dataframe\">\n",
       "  <thead>\n",
       "    <tr style=\"text-align: right;\">\n",
       "      <th></th>\n",
       "      <th>Courses</th>\n",
       "      <th>Fee</th>\n",
       "      <th>Duration</th>\n",
       "      <th>Discount</th>\n",
       "    </tr>\n",
       "  </thead>\n",
       "  <tbody>\n",
       "    <tr>\n",
       "      <th>0</th>\n",
       "      <td>Spark</td>\n",
       "      <td>20000</td>\n",
       "      <td>30days</td>\n",
       "      <td>2000</td>\n",
       "    </tr>\n",
       "    <tr>\n",
       "      <th>1</th>\n",
       "      <td>Python</td>\n",
       "      <td>22000</td>\n",
       "      <td>35days</td>\n",
       "      <td>1200</td>\n",
       "    </tr>\n",
       "  </tbody>\n",
       "</table>\n",
       "</div>"
      ],
      "text/plain": [
       "  Courses    Fee Duration  Discount\n",
       "0   Spark  20000   30days      2000\n",
       "1  Python  22000   35days      1200"
      ]
     },
     "execution_count": 40,
     "metadata": {},
     "output_type": "execute_result"
    }
   ],
   "source": [
    "\n",
    "# Using pandas.merge()\n",
    "df3= pd.merge(df1,df2)\n",
    "df3"
   ]
  },
  {
   "cell_type": "code",
   "execution_count": 41,
   "id": "9448cb0d",
   "metadata": {},
   "outputs": [
    {
     "data": {
      "text/html": [
       "<div>\n",
       "<style scoped>\n",
       "    .dataframe tbody tr th:only-of-type {\n",
       "        vertical-align: middle;\n",
       "    }\n",
       "\n",
       "    .dataframe tbody tr th {\n",
       "        vertical-align: top;\n",
       "    }\n",
       "\n",
       "    .dataframe thead th {\n",
       "        text-align: right;\n",
       "    }\n",
       "</style>\n",
       "<table border=\"1\" class=\"dataframe\">\n",
       "  <thead>\n",
       "    <tr style=\"text-align: right;\">\n",
       "      <th></th>\n",
       "      <th>Courses</th>\n",
       "      <th>Fee</th>\n",
       "      <th>Duration</th>\n",
       "      <th>Discount</th>\n",
       "    </tr>\n",
       "  </thead>\n",
       "  <tbody>\n",
       "    <tr>\n",
       "      <th>0</th>\n",
       "      <td>Spark</td>\n",
       "      <td>20000</td>\n",
       "      <td>30days</td>\n",
       "      <td>2000</td>\n",
       "    </tr>\n",
       "    <tr>\n",
       "      <th>1</th>\n",
       "      <td>Python</td>\n",
       "      <td>22000</td>\n",
       "      <td>35days</td>\n",
       "      <td>1200</td>\n",
       "    </tr>\n",
       "  </tbody>\n",
       "</table>\n",
       "</div>"
      ],
      "text/plain": [
       "  Courses    Fee Duration  Discount\n",
       "0   Spark  20000   30days      2000\n",
       "1  Python  22000   35days      1200"
      ]
     },
     "execution_count": 41,
     "metadata": {},
     "output_type": "execute_result"
    }
   ],
   "source": [
    "\n",
    "# Using DataFrame.merge()\n",
    "df3=df1.merge(df2)\n",
    "df3"
   ]
  },
  {
   "cell_type": "code",
   "execution_count": 42,
   "id": "36ff7874",
   "metadata": {},
   "outputs": [
    {
     "data": {
      "text/html": [
       "<div>\n",
       "<style scoped>\n",
       "    .dataframe tbody tr th:only-of-type {\n",
       "        vertical-align: middle;\n",
       "    }\n",
       "\n",
       "    .dataframe tbody tr th {\n",
       "        vertical-align: top;\n",
       "    }\n",
       "\n",
       "    .dataframe thead th {\n",
       "        text-align: right;\n",
       "    }\n",
       "</style>\n",
       "<table border=\"1\" class=\"dataframe\">\n",
       "  <thead>\n",
       "    <tr style=\"text-align: right;\">\n",
       "      <th></th>\n",
       "      <th>Courses</th>\n",
       "      <th>Fee</th>\n",
       "      <th>Duration</th>\n",
       "      <th>Discount</th>\n",
       "    </tr>\n",
       "  </thead>\n",
       "  <tbody>\n",
       "    <tr>\n",
       "      <th>0</th>\n",
       "      <td>Spark</td>\n",
       "      <td>20000</td>\n",
       "      <td>30days</td>\n",
       "      <td>2000</td>\n",
       "    </tr>\n",
       "    <tr>\n",
       "      <th>1</th>\n",
       "      <td>Python</td>\n",
       "      <td>22000</td>\n",
       "      <td>35days</td>\n",
       "      <td>1200</td>\n",
       "    </tr>\n",
       "  </tbody>\n",
       "</table>\n",
       "</div>"
      ],
      "text/plain": [
       "  Courses    Fee Duration  Discount\n",
       "0   Spark  20000   30days      2000\n",
       "1  Python  22000   35days      1200"
      ]
     },
     "execution_count": 42,
     "metadata": {},
     "output_type": "execute_result"
    }
   ],
   "source": [
    "\n",
    "df3=pd.merge(df1,df2, on='Courses')\n",
    "df3"
   ]
  },
  {
   "cell_type": "code",
   "execution_count": 43,
   "id": "3ba0d8dd",
   "metadata": {},
   "outputs": [
    {
     "name": "stdout",
     "output_type": "stream",
     "text": [
      "    Courses    Fee\n",
      "0     Spark  20000\n",
      "1   PySpark  25000\n",
      "2    Python  22000\n",
      "3    pandas  24000\n",
      "0    Pandas  25000\n",
      "1    Hadoop  25200\n",
      "2  Hyperion  24500\n",
      "3      Java  24900\n"
     ]
    }
   ],
   "source": [
    "import pandas as pd\n",
    "df = pd.DataFrame({'Courses': [\"Spark\",\"PySpark\",\"Python\",\"pandas\"],\n",
    "                    'Fee' : [20000,25000,22000,24000]})\n",
    "\n",
    "df1 = pd.DataFrame({'Courses': [\"Pandas\",\"Hadoop\",\"Hyperion\",\"Java\"],\n",
    "                    'Fee': [25000,25200,24500,24900]})\n",
    "\n",
    "# Using pandas.concat() to concat two DataFrames\n",
    "data = [df, df1]\n",
    "df2 = pd.concat(data)\n",
    "print(df2)"
   ]
  },
  {
   "cell_type": "code",
   "execution_count": 44,
   "id": "7e0ff232",
   "metadata": {},
   "outputs": [
    {
     "name": "stdout",
     "output_type": "stream",
     "text": [
      "    Courses    Fee\n",
      "0     Spark  20000\n",
      "1   PySpark  25000\n",
      "2    Python  22000\n",
      "3    pandas  24000\n",
      "4    Pandas  25000\n",
      "5    Hadoop  25200\n",
      "6  Hyperion  24500\n",
      "7      Java  24900\n"
     ]
    }
   ],
   "source": [
    "\n",
    "# Use pandas.concat() method to ignore_index \n",
    "df2 = pd.concat([df, df1], ignore_index=True, sort=False)\n",
    "print(df2)"
   ]
  },
  {
   "cell_type": "code",
   "execution_count": 77,
   "id": "0f173d89",
   "metadata": {},
   "outputs": [
    {
     "name": "stdout",
     "output_type": "stream",
     "text": [
      "     Courses    Fee Duration  Discount\n",
      "0      Spark  20000      NaN       NaN\n",
      "1    PySpark  25000      NaN       NaN\n",
      "2     Python  22000      NaN       NaN\n",
      "3     Pandas  24000      NaN       NaN\n",
      "4       Unix  25000      NaN       NaN\n",
      "5     Hadoop  25200      NaN       NaN\n",
      "6   Hyperion  24500      NaN       NaN\n",
      "7       Java  24900      NaN       NaN\n",
      "8        NaN    NaN    30day    1000.0\n",
      "9        NaN    NaN   40days    2300.0\n",
      "10       NaN    NaN   35days    2500.0\n",
      "11       NaN    NaN   60days    2000.0\n",
      "12       NaN    NaN   55days    3000.0\n"
     ]
    }
   ],
   "source": [
    "import pandas as pd\n",
    "df = pd.DataFrame({'Courses': [\"Spark\", \"PySpark\", \"Python\", \"Pandas\"],\n",
    "                    'Fee' : ['20000', '25000', '22000', '24000']}) \n",
    "  \n",
    "df1 = pd.DataFrame({'Courses': [\"Unix\", \"Hadoop\", \"Hyperion\", \"Java\"],\n",
    "                    'Fee': ['25000', '25200', '24500', '24900']})\n",
    "  \n",
    "df2 = pd.DataFrame({'Duration':['30day','40days','35days','60days','55days'],\n",
    "                    'Discount':[1000,2300,2500,2000,3000]})\n",
    "  \n",
    "# Appending multiple DataFrame\n",
    "df3 = pd.concat([df, df1, df2],ignore_index=True)\n",
    "print(df3)"
   ]
  },
  {
   "cell_type": "code",
   "execution_count": 46,
   "id": "57cf47cd",
   "metadata": {},
   "outputs": [
    {
     "name": "stdout",
     "output_type": "stream",
     "text": [
      "    Courses    Fee Duration\n",
      "0     Spark  20000      NaN\n",
      "1   PySpark  25000      NaN\n",
      "2    Python  22000      NaN\n",
      "3    pandas  24000      NaN\n",
      "0    Pandas  25000   30days\n",
      "1    Hadoop  25200   35days\n",
      "2  Hyperion  24500   40days\n",
      "3      Java  24900   45days\n"
     ]
    }
   ],
   "source": [
    "import pandas as pd\n",
    "\n",
    "df = pd.DataFrame({'Courses': [\"Spark\",\"PySpark\",\"Python\",\"pandas\"],\n",
    "                    'Fee' : [20000,25000,22000,24000]})\n",
    "\n",
    "df1 = pd.DataFrame({'Courses': [\"Pandas\",\"Hadoop\",\"Hyperion\",\"Java\"],\n",
    "                    'Fee': [25000,25200,24500,24900],\n",
    "                    'Duration': ['30days','35days','40days','45days']})\n",
    "\n",
    "# Using append() method\n",
    "df2 = df.append(df1)\n",
    "print(df2)"
   ]
  },
  {
   "cell_type": "code",
   "execution_count": 47,
   "id": "35cf1d30",
   "metadata": {},
   "outputs": [
    {
     "name": "stdout",
     "output_type": "stream",
     "text": [
      "    Courses    Fee\n",
      "0     Spark  20000\n",
      "1   PySpark  25000\n",
      "2    Python  22000\n",
      "3    pandas  24000\n",
      "4  Hyperion  24000\n"
     ]
    }
   ],
   "source": [
    "\n",
    "# Append Dict as row to DataFrame\n",
    "new_row = {'Courses':'Hyperion', 'Fee':24000}\n",
    "df2=df.append(new_row, ignore_index=True)\n",
    "print(df2)"
   ]
  },
  {
   "cell_type": "code",
   "execution_count": 48,
   "id": "56d9c4d0",
   "metadata": {},
   "outputs": [
    {
     "name": "stdout",
     "output_type": "stream",
     "text": [
      "   Courses    Fee Duration  Discount\n",
      "r1   Spark  20000   30days      1000\n",
      "r3     NaN  25000   40days      2500\n",
      "r5  pandas  30000   35days      1500\n",
      "r2    Java  22000   60days      1200\n",
      "r4   Spark  26000   50days      3000\n"
     ]
    }
   ],
   "source": [
    "\n",
    "import pandas as pd\n",
    "import numpy as np\n",
    "technologies = ({\n",
    "    'Courses':[\"Spark\",np.nan,\"pandas\",\"Java\",\"Spark\"],\n",
    "    'Fee' :[20000,25000,30000,22000,26000],\n",
    "    'Duration':['30days','40days','35days','60days','50days'],\n",
    "    'Discount':[1000,2500,1500,1200,3000]\n",
    "               })\n",
    "df = pd.DataFrame(technologies, index = ['r1','r3','r5','r2','r4'])\n",
    "print(df)\n"
   ]
  },
  {
   "cell_type": "code",
   "execution_count": 49,
   "id": "95aa742c",
   "metadata": {},
   "outputs": [
    {
     "name": "stdout",
     "output_type": "stream",
     "text": [
      "   Courses    Fee Duration  Discount\n",
      "r2    Java  22000   60days      1200\n",
      "r1   Spark  20000   30days      1000\n",
      "r4   Spark  26000   50days      3000\n",
      "r5  pandas  30000   35days      1500\n",
      "r3     NaN  25000   40days      2500\n"
     ]
    }
   ],
   "source": [
    "\n",
    "# Default sort\n",
    "df2 = df.sort_values('Courses')\n",
    "print(df2)\n"
   ]
  },
  {
   "cell_type": "code",
   "execution_count": 50,
   "id": "4ea42d9a",
   "metadata": {},
   "outputs": [
    {
     "name": "stdout",
     "output_type": "stream",
     "text": [
      "   Courses    Fee Duration  Discount\n",
      "r5  pandas  30000   35days      1500\n",
      "r1   Spark  20000   30days      1000\n",
      "r4   Spark  26000   50days      3000\n",
      "r2    Java  22000   60days      1200\n",
      "r3     NaN  25000   40days      2500\n"
     ]
    }
   ],
   "source": [
    "\n",
    "# Sort by Descending\n",
    "df2 = df.sort_values('Courses', ascending=False)\n",
    "print(df2)\n"
   ]
  },
  {
   "cell_type": "code",
   "execution_count": 51,
   "id": "0eaab20e",
   "metadata": {},
   "outputs": [
    {
     "name": "stdout",
     "output_type": "stream",
     "text": [
      "   Courses    Fee Duration  Discount\n",
      "r2    Java  22000   60days      1200\n",
      "r1   Spark  20000   30days      1000\n",
      "r4   Spark  26000   50days      3000\n",
      "r5  pandas  30000   35days      1500\n",
      "r3     NaN  25000   40days      2500\n"
     ]
    }
   ],
   "source": [
    "\n",
    "# Sory by multiple columns\n",
    "df2 = df.sort_values(by=['Courses','Fee'])\n",
    "print(df2)\n"
   ]
  },
  {
   "cell_type": "code",
   "execution_count": 52,
   "id": "3efb4c37",
   "metadata": {},
   "outputs": [
    {
     "name": "stdout",
     "output_type": "stream",
     "text": [
      "   Courses    Fee Duration  Discount\n",
      "r3     NaN  25000   40days      2500\n",
      "r2    Java  22000   60days      1200\n",
      "r1   Spark  20000   30days      1000\n",
      "r4   Spark  26000   50days      3000\n",
      "r5  pandas  30000   35days      1500\n"
     ]
    }
   ],
   "source": [
    "\n",
    "# Sory by putting NaN at first\n",
    "df2 = df.sort_values(by=['Courses','Fee'], na_position='first')\n",
    "print(df2)\n"
   ]
  },
  {
   "cell_type": "code",
   "execution_count": 78,
   "id": "238bc6f3",
   "metadata": {},
   "outputs": [
    {
     "name": "stdout",
     "output_type": "stream",
     "text": [
      "    A    B\n",
      "0   0  0.0\n",
      "1   1  1.0\n",
      "2   2  3.0\n",
      "3   4  6.0\n",
      "4   6  9.0\n",
      "5  10  NaN\n",
      "6   4  4.0\n"
     ]
    }
   ],
   "source": [
    "# Create DataFrame\n",
    "import pandas as pd\n",
    "import numpy as np\n",
    "\n",
    "df = pd.DataFrame({'A': [0,1,2,4,6,10,4],\n",
    "                   'B': [0,1,3,6,9,np.nan,4]})\n",
    "print(df)\n"
   ]
  },
  {
   "cell_type": "code",
   "execution_count": 54,
   "id": "6fc672aa",
   "metadata": {},
   "outputs": [
    {
     "name": "stdout",
     "output_type": "stream",
     "text": [
      "Rolling [window=2,center=False,axis=0,method=single]\n"
     ]
    }
   ],
   "source": [
    "\n",
    "# Returns Rolling subclass.\n",
    "rolling=df.rolling(window=2)\n",
    "print(rolling)\n"
   ]
  },
  {
   "cell_type": "code",
   "execution_count": 79,
   "id": "0ac3fa0f",
   "metadata": {},
   "outputs": [
    {
     "data": {
      "text/html": [
       "<div>\n",
       "<style scoped>\n",
       "    .dataframe tbody tr th:only-of-type {\n",
       "        vertical-align: middle;\n",
       "    }\n",
       "\n",
       "    .dataframe tbody tr th {\n",
       "        vertical-align: top;\n",
       "    }\n",
       "\n",
       "    .dataframe thead th {\n",
       "        text-align: right;\n",
       "    }\n",
       "</style>\n",
       "<table border=\"1\" class=\"dataframe\">\n",
       "  <thead>\n",
       "    <tr style=\"text-align: right;\">\n",
       "      <th></th>\n",
       "      <th>A</th>\n",
       "      <th>B</th>\n",
       "    </tr>\n",
       "  </thead>\n",
       "  <tbody>\n",
       "    <tr>\n",
       "      <th>0</th>\n",
       "      <td>0</td>\n",
       "      <td>0.0</td>\n",
       "    </tr>\n",
       "    <tr>\n",
       "      <th>1</th>\n",
       "      <td>1</td>\n",
       "      <td>1.0</td>\n",
       "    </tr>\n",
       "    <tr>\n",
       "      <th>2</th>\n",
       "      <td>2</td>\n",
       "      <td>3.0</td>\n",
       "    </tr>\n",
       "    <tr>\n",
       "      <th>3</th>\n",
       "      <td>4</td>\n",
       "      <td>6.0</td>\n",
       "    </tr>\n",
       "    <tr>\n",
       "      <th>4</th>\n",
       "      <td>6</td>\n",
       "      <td>9.0</td>\n",
       "    </tr>\n",
       "    <tr>\n",
       "      <th>5</th>\n",
       "      <td>10</td>\n",
       "      <td>NaN</td>\n",
       "    </tr>\n",
       "    <tr>\n",
       "      <th>6</th>\n",
       "      <td>4</td>\n",
       "      <td>4.0</td>\n",
       "    </tr>\n",
       "  </tbody>\n",
       "</table>\n",
       "</div>"
      ],
      "text/plain": [
       "    A    B\n",
       "0   0  0.0\n",
       "1   1  1.0\n",
       "2   2  3.0\n",
       "3   4  6.0\n",
       "4   6  9.0\n",
       "5  10  NaN\n",
       "6   4  4.0"
      ]
     },
     "execution_count": 79,
     "metadata": {},
     "output_type": "execute_result"
    }
   ],
   "source": [
    "df"
   ]
  },
  {
   "cell_type": "code",
   "execution_count": 55,
   "id": "9ae2b300",
   "metadata": {},
   "outputs": [
    {
     "name": "stdout",
     "output_type": "stream",
     "text": [
      "      A     B\n",
      "0   NaN   NaN\n",
      "1   NaN   NaN\n",
      "2   3.0   4.0\n",
      "3   7.0  10.0\n",
      "4  12.0  18.0\n",
      "5  20.0   NaN\n",
      "6  20.0   NaN\n"
     ]
    }
   ],
   "source": [
    "# Rolling() of sum with window length 3\n",
    "df2=df.rolling(window=3).sum()\n",
    "print(df2)"
   ]
  },
  {
   "cell_type": "code",
   "execution_count": 56,
   "id": "af3a4a4a",
   "metadata": {},
   "outputs": [
    {
     "name": "stdout",
     "output_type": "stream",
     "text": [
      "          A         B\n",
      "0       NaN       NaN\n",
      "1       NaN       NaN\n",
      "2  1.000000  1.333333\n",
      "3  2.333333  3.333333\n",
      "4  4.000000  6.000000\n",
      "5  6.666667       NaN\n",
      "6  6.666667       NaN\n"
     ]
    }
   ],
   "source": [
    "# Rolling() of mean with window length 3\n",
    "df2=df.rolling(window=3).mean()\n",
    "print(df2)"
   ]
  },
  {
   "cell_type": "code",
   "execution_count": 57,
   "id": "a14a5497",
   "metadata": {},
   "outputs": [
    {
     "name": "stdout",
     "output_type": "stream",
     "text": [
      "      A    B\n",
      "0   NaN  NaN\n",
      "1   1.0  0.0\n",
      "2   3.0  1.0\n",
      "3   6.0  3.0\n",
      "4  10.0  6.0\n",
      "5  16.0  NaN\n",
      "6  14.0  NaN\n"
     ]
    }
   ],
   "source": [
    "# Rolling agg on multuple columns\n",
    "df2 = df.rolling(2).agg({\"A\": \"sum\", \"B\": \"min\"})\n",
    "print(df2)\n"
   ]
  },
  {
   "cell_type": "code",
   "execution_count": 62,
   "id": "2e573ffb",
   "metadata": {},
   "outputs": [
    {
     "data": {
      "text/plain": [
       "DatetimeIndex(['2020-04-24', '2020-04-25', '2020-04-26', '2020-04-27',\n",
       "               '2020-04-28', '2020-04-29', '2020-04-30', '2020-05-01',\n",
       "               '2020-05-02', '2020-05-03', '2020-05-04', '2020-05-05',\n",
       "               '2020-05-06', '2020-05-07', '2020-05-08', '2020-05-09',\n",
       "               '2020-05-10', '2020-05-11', '2020-05-12', '2020-05-13',\n",
       "               '2020-05-14', '2020-05-15', '2020-05-16', '2020-05-17',\n",
       "               '2020-05-18', '2020-05-19', '2020-05-20', '2020-05-21',\n",
       "               '2020-05-22', '2020-05-23', '2020-05-24'],\n",
       "              dtype='datetime64[ns]', freq='D')"
      ]
     },
     "execution_count": 62,
     "metadata": {},
     "output_type": "execute_result"
    }
   ],
   "source": [
    "\n",
    "pd.date_range(start='24/4/2020', end='24/5/2020', freq='D')"
   ]
  },
  {
   "cell_type": "code",
   "execution_count": 80,
   "id": "9cf3ba1f",
   "metadata": {},
   "outputs": [
    {
     "data": {
      "text/plain": [
       "DatetimeIndex(['2022-03-17 11:24:38.205211', '2022-03-17 11:25:38.205211',\n",
       "               '2022-03-17 11:26:38.205211', '2022-03-17 11:27:38.205211',\n",
       "               '2022-03-17 11:28:38.205211'],\n",
       "              dtype='datetime64[ns]', freq='T')"
      ]
     },
     "execution_count": 80,
     "metadata": {},
     "output_type": "execute_result"
    }
   ],
   "source": [
    "from datetime import datetime\n",
    "start_date = datetime.today()\n",
    "dates_start = pd.date_range(start=start_date, periods=10, freq='T')\n",
    "dates_start[:5]"
   ]
  },
  {
   "cell_type": "code",
   "execution_count": 81,
   "id": "3a416b0d",
   "metadata": {},
   "outputs": [
    {
     "data": {
      "text/plain": [
       "DatetimeIndex(['2022-03-17 11:24:38.205211', '2022-03-18 11:24:38.205211',\n",
       "               '2022-03-19 11:24:38.205211', '2022-03-20 11:24:38.205211',\n",
       "               '2022-03-21 11:24:38.205211'],\n",
       "              dtype='datetime64[ns]', freq='D')"
      ]
     },
     "execution_count": 81,
     "metadata": {},
     "output_type": "execute_result"
    }
   ],
   "source": [
    "dates_end = pd.date_range(start=start_date, periods=10, freq='D')\n",
    "dates_end[:5]"
   ]
  },
  {
   "cell_type": "code",
   "execution_count": 67,
   "id": "ba16802b",
   "metadata": {},
   "outputs": [
    {
     "data": {
      "text/plain": [
       "<AxesSubplot:>"
      ]
     },
     "execution_count": 67,
     "metadata": {},
     "output_type": "execute_result"
    },
    {
     "data": {
      "image/png": "[encoded data removed]",
      "text/plain": [
       "<Figure size 432x288 with 1 Axes>"
      ]
     },
     "metadata": {
      "needs_background": "light"
     },
     "output_type": "display_data"
    }
   ],
   "source": [
    "import numpy as np\n",
    "\n",
    "df = pd.DataFrame(np.random.rand(10,4),columns=['a','b','c','d'])\n",
    "df.plot.bar()"
   ]
  },
  {
   "cell_type": "code",
   "execution_count": 68,
   "id": "6f2049b8",
   "metadata": {},
   "outputs": [
    {
     "data": {
      "text/plain": [
       "<AxesSubplot:>"
      ]
     },
     "execution_count": 68,
     "metadata": {},
     "output_type": "execute_result"
    },
    {
     "data": {
      "image/png": "[encoded data removed]",
      "text/plain": [
       "<Figure size 432x288 with 1 Axes>"
      ]
     },
     "metadata": {
      "needs_background": "light"
     },
     "output_type": "display_data"
    }
   ],
   "source": [
    "df = pd.DataFrame(np.random.rand(10,4),columns=['a','b','c','d'])\n",
    "df.plot.bar(stacked=True)"
   ]
  },
  {
   "cell_type": "code",
   "execution_count": 69,
   "id": "b145ba02",
   "metadata": {},
   "outputs": [
    {
     "data": {
      "text/plain": [
       "<AxesSubplot:>"
      ]
     },
     "execution_count": 69,
     "metadata": {},
     "output_type": "execute_result"
    },
    {
     "data": {
      "image/png": "[encoded data removed]",
      "text/plain": [
       "<Figure size 432x288 with 1 Axes>"
      ]
     },
     "metadata": {
      "needs_background": "light"
     },
     "output_type": "display_data"
    }
   ],
   "source": [
    "\n",
    "df = pd.DataFrame(np.random.rand(10,4),columns=['a','b','c','d'])\n",
    "\n",
    "df.plot.barh(stacked=True)"
   ]
  },
  {
   "cell_type": "code",
   "execution_count": 70,
   "id": "f89f7640",
   "metadata": {},
   "outputs": [
    {
     "data": {
      "text/plain": [
       "<AxesSubplot:xlabel='a', ylabel='b'>"
      ]
     },
     "execution_count": 70,
     "metadata": {},
     "output_type": "execute_result"
    },
    {
     "data": {
      "image/png": "[encoded data removed]",
      "text/plain": [
       "<Figure size 432x288 with 1 Axes>"
      ]
     },
     "metadata": {
      "needs_background": "light"
     },
     "output_type": "display_data"
    }
   ],
   "source": [
    "df = pd.DataFrame(np.random.rand(50, 4), columns=['a', 'b', 'c', 'd'])\n",
    "df.plot.scatter(x='a', y='b')"
   ]
  },
  {
   "cell_type": "code",
   "execution_count": 71,
   "id": "fc44b625",
   "metadata": {},
   "outputs": [
    {
     "data": {
      "text/plain": [
       "array([<AxesSubplot:ylabel='x'>], dtype=object)"
      ]
     },
     "execution_count": 71,
     "metadata": {},
     "output_type": "execute_result"
    },
    {
     "data": {
      "image/png": "[encoded data removed]",
      "text/plain": [
       "<Figure size 432x288 with 1 Axes>"
      ]
     },
     "metadata": {},
     "output_type": "display_data"
    }
   ],
   "source": [
    "\n",
    "df = pd.DataFrame(3 * np.random.rand(4), index=['a', 'b', 'c', 'd'], columns=['x'])\n",
    "df.plot.pie(subplots=True)"
   ]
  },
  {
   "cell_type": "code",
   "execution_count": null,
   "id": "c6ea27f9",
   "metadata": {},
   "outputs": [],
   "source": []
  }
 ],
 "metadata": {
  "kernelspec": {
   "display_name": "Python 3 (ipykernel)",
   "language": "python",
   "name": "python3"
  },
  "language_info": {
   "codemirror_mode": {
    "name": "ipython",
    "version": 3
   },
   "file_extension": ".py",
   "mimetype": "text/x-python",
   "name": "python",
   "nbconvert_exporter": "python",
   "pygments_lexer": "ipython3",
   "version": "3.9.7"
  }
 },
 "nbformat": 4,
 "nbformat_minor": 5
}
