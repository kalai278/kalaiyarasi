{
 "cells": [
  {
   "cell_type": "code",
   "execution_count": 2,
   "id": "45bc9e4a",
   "metadata": {},
   "outputs": [
    {
     "name": "stdout",
     "output_type": "stream",
     "text": [
      "<class 'dict'>\n"
     ]
    }
   ],
   "source": [
    "d={\"name\":\"kalai\",\"age\":22,\"mail\":\"kalai123@gmail.com\"}\n",
    "print(type(d))"
   ]
  },
  {
   "cell_type": "code",
   "execution_count": 17,
   "id": "59080fce",
   "metadata": {},
   "outputs": [],
   "source": [
    "user_data={\"users\":[{\"id\":1,\"name\":\"dine\",\"age\":18,\"mail\":\"dine12@gmail.com\"},\n",
    "          {\"id\":2,\"name\":\"jp\",\"age\":22,\"mail\":\"jp123@gmail.com\"}]}"
   ]
  },
  {
   "cell_type": "code",
   "execution_count": 18,
   "id": "7b55b097",
   "metadata": {},
   "outputs": [
    {
     "name": "stdout",
     "output_type": "stream",
     "text": [
      "<class 'str'>\n"
     ]
    }
   ],
   "source": [
    "print(type(\"users\"))"
   ]
  },
  {
   "cell_type": "code",
   "execution_count": 19,
   "id": "34f7e031",
   "metadata": {},
   "outputs": [],
   "source": [
    "import json\n",
    "with open(\"user_data_org.json\",\"w\") as f:\n",
    "    json.dump(user_data,f)"
   ]
  },
  {
   "cell_type": "code",
   "execution_count": 21,
   "id": "9dcba95f",
   "metadata": {},
   "outputs": [],
   "source": [
    "with open(\"user_data_org.json\") as f1:\n",
    "    json_data=json.load(f1)\n",
    "\n"
   ]
  },
  {
   "cell_type": "code",
   "execution_count": 24,
   "id": "238bf04f",
   "metadata": {},
   "outputs": [
    {
     "name": "stdout",
     "output_type": "stream",
     "text": [
      "{'users': [{'id': 1, 'name': 'dine', 'age': 18, 'mail': 'dine12@gmail.com'}, {'id': 2, 'name': 'jp', 'age': 22, 'mail': 'jp123@gmail.com'}]}\n"
     ]
    }
   ],
   "source": [
    "print(json_data)"
   ]
  },
  {
   "cell_type": "code",
   "execution_count": 29,
   "id": "c4ca2447",
   "metadata": {},
   "outputs": [],
   "source": [
    "import pandas as pd"
   ]
  },
  {
   "cell_type": "code",
   "execution_count": 30,
   "id": "fd371303",
   "metadata": {},
   "outputs": [
    {
     "data": {
      "text/html": [
       "<div>\n",
       "<style scoped>\n",
       "    .dataframe tbody tr th:only-of-type {\n",
       "        vertical-align: middle;\n",
       "    }\n",
       "\n",
       "    .dataframe tbody tr th {\n",
       "        vertical-align: top;\n",
       "    }\n",
       "\n",
       "    .dataframe thead th {\n",
       "        text-align: right;\n",
       "    }\n",
       "</style>\n",
       "<table border=\"1\" class=\"dataframe\">\n",
       "  <thead>\n",
       "    <tr style=\"text-align: right;\">\n",
       "      <th></th>\n",
       "      <th>users</th>\n",
       "    </tr>\n",
       "  </thead>\n",
       "  <tbody>\n",
       "    <tr>\n",
       "      <th>0</th>\n",
       "      <td>{'id': 1, 'name': 'dine', 'age': 18, 'mail': '...</td>\n",
       "    </tr>\n",
       "    <tr>\n",
       "      <th>1</th>\n",
       "      <td>{'id': 2, 'name': 'jp', 'age': 22, 'mail': 'jp...</td>\n",
       "    </tr>\n",
       "  </tbody>\n",
       "</table>\n",
       "</div>"
      ],
      "text/plain": [
       "                                               users\n",
       "0  {'id': 1, 'name': 'dine', 'age': 18, 'mail': '...\n",
       "1  {'id': 2, 'name': 'jp', 'age': 22, 'mail': 'jp..."
      ]
     },
     "execution_count": 30,
     "metadata": {},
     "output_type": "execute_result"
    }
   ],
   "source": [
    "json_df=pd.DataFrame(json_data)\n",
    "json_df"
   ]
  },
  {
   "cell_type": "code",
   "execution_count": 35,
   "id": "49760072",
   "metadata": {},
   "outputs": [
    {
     "data": {
      "text/html": [
       "<div>\n",
       "<style scoped>\n",
       "    .dataframe tbody tr th:only-of-type {\n",
       "        vertical-align: middle;\n",
       "    }\n",
       "\n",
       "    .dataframe tbody tr th {\n",
       "        vertical-align: top;\n",
       "    }\n",
       "\n",
       "    .dataframe thead th {\n",
       "        text-align: right;\n",
       "    }\n",
       "</style>\n",
       "<table border=\"1\" class=\"dataframe\">\n",
       "  <thead>\n",
       "    <tr style=\"text-align: right;\">\n",
       "      <th></th>\n",
       "      <th>id</th>\n",
       "      <th>name</th>\n",
       "      <th>age</th>\n",
       "      <th>mail</th>\n",
       "    </tr>\n",
       "  </thead>\n",
       "  <tbody>\n",
       "    <tr>\n",
       "      <th>0</th>\n",
       "      <td>1</td>\n",
       "      <td>dine</td>\n",
       "      <td>18</td>\n",
       "      <td>dine12@gmail.com</td>\n",
       "    </tr>\n",
       "    <tr>\n",
       "      <th>1</th>\n",
       "      <td>2</td>\n",
       "      <td>jp</td>\n",
       "      <td>22</td>\n",
       "      <td>jp123@gmail.com</td>\n",
       "    </tr>\n",
       "  </tbody>\n",
       "</table>\n",
       "</div>"
      ],
      "text/plain": [
       "   id  name  age              mail\n",
       "0   1  dine   18  dine12@gmail.com\n",
       "1   2    jp   22   jp123@gmail.com"
      ]
     },
     "execution_count": 35,
     "metadata": {},
     "output_type": "execute_result"
    }
   ],
   "source": [
    "json_df1=pd.json_normalize(json_df[\"users\"])\n",
    "json_df1"
   ]
  },
  {
   "cell_type": "code",
   "execution_count": null,
   "id": "40d308df",
   "metadata": {},
   "outputs": [],
   "source": [
    "json_df_org.to.pd.csv\n"
   ]
  },
  {
   "cell_type": "code",
   "execution_count": 46,
   "id": "dc3944f9",
   "metadata": {},
   "outputs": [
    {
     "name": "stdout",
     "output_type": "stream",
     "text": [
      "Collecting pymysql\n",
      "  Downloading PyMySQL-1.0.2-py3-none-any.whl (43 kB)\n",
      "\u001b[K     |████████████████████████████████| 43 kB 1.1 MB/s eta 0:00:01\n",
      "\u001b[?25hInstalling collected packages: pymysql\n",
      "Successfully installed pymysql-1.0.2\n",
      "Note: you may need to restart the kernel to use updated packages.\n"
     ]
    }
   ],
   "source": [
    "pip install pymysql\n"
   ]
  },
  {
   "cell_type": "code",
   "execution_count": 47,
   "id": "d19020d1",
   "metadata": {},
   "outputs": [],
   "source": [
    "import pymysql"
   ]
  },
  {
   "cell_type": "code",
   "execution_count": 49,
   "id": "41029836",
   "metadata": {},
   "outputs": [],
   "source": [
    "connection=pymysql.connect(host=\"localhost\",user=\"root\",password=\"kalai278\",database='')\n",
    "cur=connection.cursor()"
   ]
  },
  {
   "cell_type": "code",
   "execution_count": 50,
   "id": "9ec62f96",
   "metadata": {},
   "outputs": [
    {
     "data": {
      "text/html": [
       "<div>\n",
       "<style scoped>\n",
       "    .dataframe tbody tr th:only-of-type {\n",
       "        vertical-align: middle;\n",
       "    }\n",
       "\n",
       "    .dataframe tbody tr th {\n",
       "        vertical-align: top;\n",
       "    }\n",
       "\n",
       "    .dataframe thead th {\n",
       "        text-align: right;\n",
       "    }\n",
       "</style>\n",
       "<table border=\"1\" class=\"dataframe\">\n",
       "  <thead>\n",
       "    <tr style=\"text-align: right;\">\n",
       "      <th></th>\n",
       "      <th>Name</th>\n",
       "      <th>age</th>\n",
       "    </tr>\n",
       "  </thead>\n",
       "  <tbody>\n",
       "    <tr>\n",
       "      <th>0</th>\n",
       "      <td>kalai</td>\n",
       "      <td>24</td>\n",
       "    </tr>\n",
       "    <tr>\n",
       "      <th>1</th>\n",
       "      <td>sharmi</td>\n",
       "      <td>19</td>\n",
       "    </tr>\n",
       "    <tr>\n",
       "      <th>2</th>\n",
       "      <td>prabha</td>\n",
       "      <td>27</td>\n",
       "    </tr>\n",
       "    <tr>\n",
       "      <th>3</th>\n",
       "      <td>sheebha</td>\n",
       "      <td>22</td>\n",
       "    </tr>\n",
       "  </tbody>\n",
       "</table>\n",
       "</div>"
      ],
      "text/plain": [
       "      Name  age\n",
       "0    kalai   24\n",
       "1   sharmi   19\n",
       "2   prabha   27\n",
       "3  sheebha   22"
      ]
     },
     "execution_count": 50,
     "metadata": {},
     "output_type": "execute_result"
    }
   ],
   "source": [
    "import pandas as pd\n",
    "data={'Name': ['kalai', 'sharmi','prabha','sheebha'],\n",
    "      'age': [24,19,27,22]}\n",
    "df=pd.DataFrame(data)\n",
    "df"
   ]
  },
  {
   "cell_type": "code",
   "execution_count": 51,
   "id": "28f9f9ab",
   "metadata": {},
   "outputs": [
    {
     "name": "stdout",
     "output_type": "stream",
     "text": [
      "Database created\n"
     ]
    }
   ],
   "source": [
    "cur.execute('drop database if exists Sample')\n",
    "sql='''create database Sample'''\n",
    "cur.execute(sql)\n",
    "print(\"Database created\")\n"
   ]
  },
  {
   "cell_type": "code",
   "execution_count": 53,
   "id": "cd338fd7",
   "metadata": {},
   "outputs": [
    {
     "name": "stdout",
     "output_type": "stream",
     "text": [
      "Record inserted\n",
      "Record inserted\n",
      "Record inserted\n",
      "Record inserted\n"
     ]
    }
   ],
   "source": [
    "cur.execute('use Sample')\n",
    "cur.execute('drop table if exists Info')\n",
    "cur.execute('create table Info(Name varchar(10), age int(10))')\n",
    "connection.commit()\n",
    "for i,row in df.iterrows():\n",
    "    sql=\"insert into Sample.Info values(%s, %s)\"\n",
    "    cur.execute(sql, tuple(row))\n",
    "    print(\"Record inserted\")\n",
    "connection.commit()    "
   ]
  },
  {
   "cell_type": "code",
   "execution_count": null,
   "id": "0f5991a9",
   "metadata": {},
   "outputs": [],
   "source": []
  }
 ],
 "metadata": {
  "kernelspec": {
   "display_name": "Python 3 (ipykernel)",
   "language": "python",
   "name": "python3"
  },
  "language_info": {
   "codemirror_mode": {
    "name": "ipython",
    "version": 3
   },
   "file_extension": ".py",
   "mimetype": "text/x-python",
   "name": "python",
   "nbconvert_exporter": "python",
   "pygments_lexer": "ipython3",
   "version": "3.9.7"
  }
 },
 "nbformat": 4,
 "nbformat_minor": 5
}
